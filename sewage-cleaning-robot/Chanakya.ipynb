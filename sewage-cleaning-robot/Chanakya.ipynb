{
  "cells": [
    {
      "cell_type": "code",
      "execution_count": null,
      "metadata": {
        "colab": {
          "base_uri": "https://localhost:8080/"
        },
        "id": "vcAc56OpOeNW",
        "outputId": "476ca120-fbae-44e8-bd88-2e1f366f2ada"
      },
      "outputs": [
        {
          "output_type": "stream",
          "name": "stdout",
          "text": [
            "\u001b[?25l   \u001b[90m━━━━━━━━━━━━━━━━━━━━━━━━━━━━━━━━━━━━━━━━\u001b[0m \u001b[32m0.0/1.0 MB\u001b[0m \u001b[31m?\u001b[0m eta \u001b[36m-:--:--\u001b[0m\r\u001b[2K   \u001b[91m━━━━━━━━━━━━━━━━━━━━━━━━━━━━━━━━━━━━━━━\u001b[0m\u001b[91m╸\u001b[0m \u001b[32m1.0/1.0 MB\u001b[0m \u001b[31m42.8 MB/s\u001b[0m eta \u001b[36m0:00:01\u001b[0m\r\u001b[2K   \u001b[90m━━━━━━━━━━━━━━━━━━━━━━━━━━━━━━━━━━━━━━━━\u001b[0m \u001b[32m1.0/1.0 MB\u001b[0m \u001b[31m27.1 MB/s\u001b[0m eta \u001b[36m0:00:00\u001b[0m\n",
            "\u001b[?25h"
          ]
        }
      ],
      "source": [
        "!pip install ultralytics -q"
      ]
    },
    {
      "cell_type": "markdown",
      "metadata": {
        "id": "eub5SyKkFtts"
      },
      "source": [
        "# New Section"
      ]
    },
    {
      "cell_type": "code",
      "execution_count": null,
      "metadata": {
        "colab": {
          "base_uri": "https://localhost:8080/"
        },
        "id": "KhOj50K4Psqy",
        "outputId": "67594020-23a8-4955-ba17-8b29d2a38a56"
      },
      "outputs": [
        {
          "output_type": "stream",
          "name": "stdout",
          "text": [
            "Creating new Ultralytics Settings v0.0.6 file ✅ \n",
            "View Ultralytics Settings with 'yolo settings' or at '/root/.config/Ultralytics/settings.json'\n",
            "Update Settings with 'yolo settings key=value', i.e. 'yolo settings runs_dir=path/to/dir'. For help see https://docs.ultralytics.com/quickstart/#ultralytics-settings.\n"
          ]
        }
      ],
      "source": [
        "from ultralytics import YOLO\n"
      ]
    },
    {
      "cell_type": "code",
      "execution_count": null,
      "metadata": {
        "colab": {
          "base_uri": "https://localhost:8080/"
        },
        "id": "5AU8KQ3oQDvw",
        "outputId": "dd8f5115-9c03-449c-c304-ec3f4b952ba7"
      },
      "outputs": [
        {
          "output_type": "stream",
          "name": "stderr",
          "text": [
            "Downloading https://github.com/ultralytics/assets/releases/download/v8.3.0/yolov8m.pt to 'yolov8m.pt': 100%|██████████| 49.7M/49.7M [00:00<00:00, 74.8MB/s]\n"
          ]
        }
      ],
      "source": [
        "model = YOLO(\"yolov8m.pt\")"
      ]
    },
    {
      "cell_type": "code",
      "execution_count": null,
      "metadata": {
        "id": "Wtty6JilQbyN"
      },
      "outputs": [],
      "source": [
        "!touch data.yaml"
      ]
    },
    {
      "cell_type": "code",
      "execution_count": null,
      "metadata": {
        "id": "Rc8TtoaoUAWs",
        "colab": {
          "base_uri": "https://localhost:8080/",
          "height": 321
        },
        "outputId": "1ce4753a-0b2f-4fd4-af87-a525a0fb434c"
      },
      "outputs": [
        {
          "output_type": "error",
          "ename": "MessageError",
          "evalue": "Error: credential propagation was unsuccessful",
          "traceback": [
            "\u001b[0;31m---------------------------------------------------------------------------\u001b[0m",
            "\u001b[0;31mMessageError\u001b[0m                              Traceback (most recent call last)",
            "\u001b[0;32m/tmp/ipython-input-1408506528.py\u001b[0m in \u001b[0;36m<cell line: 0>\u001b[0;34m()\u001b[0m\n\u001b[1;32m      1\u001b[0m \u001b[0;32mfrom\u001b[0m \u001b[0mgoogle\u001b[0m\u001b[0;34m.\u001b[0m\u001b[0mcolab\u001b[0m \u001b[0;32mimport\u001b[0m \u001b[0mdrive\u001b[0m\u001b[0;34m\u001b[0m\u001b[0;34m\u001b[0m\u001b[0m\n\u001b[0;32m----> 2\u001b[0;31m \u001b[0mdrive\u001b[0m\u001b[0;34m.\u001b[0m\u001b[0mmount\u001b[0m\u001b[0;34m(\u001b[0m\u001b[0;34m'/content/drive'\u001b[0m\u001b[0;34m)\u001b[0m\u001b[0;34m\u001b[0m\u001b[0;34m\u001b[0m\u001b[0m\n\u001b[0m",
            "\u001b[0;32m/usr/local/lib/python3.12/dist-packages/google/colab/drive.py\u001b[0m in \u001b[0;36mmount\u001b[0;34m(mountpoint, force_remount, timeout_ms, readonly)\u001b[0m\n\u001b[1;32m     98\u001b[0m \u001b[0;32mdef\u001b[0m \u001b[0mmount\u001b[0m\u001b[0;34m(\u001b[0m\u001b[0mmountpoint\u001b[0m\u001b[0;34m,\u001b[0m \u001b[0mforce_remount\u001b[0m\u001b[0;34m=\u001b[0m\u001b[0;32mFalse\u001b[0m\u001b[0;34m,\u001b[0m \u001b[0mtimeout_ms\u001b[0m\u001b[0;34m=\u001b[0m\u001b[0;36m120000\u001b[0m\u001b[0;34m,\u001b[0m \u001b[0mreadonly\u001b[0m\u001b[0;34m=\u001b[0m\u001b[0;32mFalse\u001b[0m\u001b[0;34m)\u001b[0m\u001b[0;34m:\u001b[0m\u001b[0;34m\u001b[0m\u001b[0;34m\u001b[0m\u001b[0m\n\u001b[1;32m     99\u001b[0m   \u001b[0;34m\"\"\"Mount your Google Drive at the specified mountpoint path.\"\"\"\u001b[0m\u001b[0;34m\u001b[0m\u001b[0;34m\u001b[0m\u001b[0m\n\u001b[0;32m--> 100\u001b[0;31m   return _mount(\n\u001b[0m\u001b[1;32m    101\u001b[0m       \u001b[0mmountpoint\u001b[0m\u001b[0;34m,\u001b[0m\u001b[0;34m\u001b[0m\u001b[0;34m\u001b[0m\u001b[0m\n\u001b[1;32m    102\u001b[0m       \u001b[0mforce_remount\u001b[0m\u001b[0;34m=\u001b[0m\u001b[0mforce_remount\u001b[0m\u001b[0;34m,\u001b[0m\u001b[0;34m\u001b[0m\u001b[0;34m\u001b[0m\u001b[0m\n",
            "\u001b[0;32m/usr/local/lib/python3.12/dist-packages/google/colab/drive.py\u001b[0m in \u001b[0;36m_mount\u001b[0;34m(mountpoint, force_remount, timeout_ms, ephemeral, readonly)\u001b[0m\n\u001b[1;32m    135\u001b[0m   )\n\u001b[1;32m    136\u001b[0m   \u001b[0;32mif\u001b[0m \u001b[0mephemeral\u001b[0m\u001b[0;34m:\u001b[0m\u001b[0;34m\u001b[0m\u001b[0;34m\u001b[0m\u001b[0m\n\u001b[0;32m--> 137\u001b[0;31m     _message.blocking_request(\n\u001b[0m\u001b[1;32m    138\u001b[0m         \u001b[0;34m'request_auth'\u001b[0m\u001b[0;34m,\u001b[0m\u001b[0;34m\u001b[0m\u001b[0;34m\u001b[0m\u001b[0m\n\u001b[1;32m    139\u001b[0m         \u001b[0mrequest\u001b[0m\u001b[0;34m=\u001b[0m\u001b[0;34m{\u001b[0m\u001b[0;34m'authType'\u001b[0m\u001b[0;34m:\u001b[0m \u001b[0;34m'dfs_ephemeral'\u001b[0m\u001b[0;34m}\u001b[0m\u001b[0;34m,\u001b[0m\u001b[0;34m\u001b[0m\u001b[0;34m\u001b[0m\u001b[0m\n",
            "\u001b[0;32m/usr/local/lib/python3.12/dist-packages/google/colab/_message.py\u001b[0m in \u001b[0;36mblocking_request\u001b[0;34m(request_type, request, timeout_sec, parent)\u001b[0m\n\u001b[1;32m    174\u001b[0m       \u001b[0mrequest_type\u001b[0m\u001b[0;34m,\u001b[0m \u001b[0mrequest\u001b[0m\u001b[0;34m,\u001b[0m \u001b[0mparent\u001b[0m\u001b[0;34m=\u001b[0m\u001b[0mparent\u001b[0m\u001b[0;34m,\u001b[0m \u001b[0mexpect_reply\u001b[0m\u001b[0;34m=\u001b[0m\u001b[0;32mTrue\u001b[0m\u001b[0;34m\u001b[0m\u001b[0;34m\u001b[0m\u001b[0m\n\u001b[1;32m    175\u001b[0m   )\n\u001b[0;32m--> 176\u001b[0;31m   \u001b[0;32mreturn\u001b[0m \u001b[0mread_reply_from_input\u001b[0m\u001b[0;34m(\u001b[0m\u001b[0mrequest_id\u001b[0m\u001b[0;34m,\u001b[0m \u001b[0mtimeout_sec\u001b[0m\u001b[0;34m)\u001b[0m\u001b[0;34m\u001b[0m\u001b[0;34m\u001b[0m\u001b[0m\n\u001b[0m",
            "\u001b[0;32m/usr/local/lib/python3.12/dist-packages/google/colab/_message.py\u001b[0m in \u001b[0;36mread_reply_from_input\u001b[0;34m(message_id, timeout_sec)\u001b[0m\n\u001b[1;32m    101\u001b[0m     ):\n\u001b[1;32m    102\u001b[0m       \u001b[0;32mif\u001b[0m \u001b[0;34m'error'\u001b[0m \u001b[0;32min\u001b[0m \u001b[0mreply\u001b[0m\u001b[0;34m:\u001b[0m\u001b[0;34m\u001b[0m\u001b[0;34m\u001b[0m\u001b[0m\n\u001b[0;32m--> 103\u001b[0;31m         \u001b[0;32mraise\u001b[0m \u001b[0mMessageError\u001b[0m\u001b[0;34m(\u001b[0m\u001b[0mreply\u001b[0m\u001b[0;34m[\u001b[0m\u001b[0;34m'error'\u001b[0m\u001b[0;34m]\u001b[0m\u001b[0;34m)\u001b[0m\u001b[0;34m\u001b[0m\u001b[0;34m\u001b[0m\u001b[0m\n\u001b[0m\u001b[1;32m    104\u001b[0m       \u001b[0;32mreturn\u001b[0m \u001b[0mreply\u001b[0m\u001b[0;34m.\u001b[0m\u001b[0mget\u001b[0m\u001b[0;34m(\u001b[0m\u001b[0;34m'data'\u001b[0m\u001b[0;34m,\u001b[0m \u001b[0;32mNone\u001b[0m\u001b[0;34m)\u001b[0m\u001b[0;34m\u001b[0m\u001b[0;34m\u001b[0m\u001b[0m\n\u001b[1;32m    105\u001b[0m \u001b[0;34m\u001b[0m\u001b[0m\n",
            "\u001b[0;31mMessageError\u001b[0m: Error: credential propagation was unsuccessful"
          ]
        }
      ],
      "source": [
        "from google.colab import drive\n",
        "drive.mount('/content/drive')"
      ]
    },
    {
      "cell_type": "code",
      "execution_count": null,
      "metadata": {
        "colab": {
          "base_uri": "https://localhost:8080/"
        },
        "id": "tkm7UWO8QfyX",
        "outputId": "97c57a46-3132-41b7-9a67-102caedc4c70"
      },
      "outputs": [
        {
          "output_type": "stream",
          "name": "stdout",
          "text": [
            "Ultralytics 8.3.75 🚀 Python-3.11.11 torch-2.5.1+cu124 CUDA:0 (Tesla T4, 15095MiB)\n",
            "\u001b[34m\u001b[1mengine/trainer: \u001b[0mtask=detect, mode=train, model=yolov8m.pt, data=/content/dataset/data.yaml, epochs=15, time=None, patience=100, batch=16, imgsz=640, save=True, save_period=-1, cache=False, device=None, workers=8, project=None, name=train, exist_ok=False, pretrained=True, optimizer=auto, verbose=True, seed=0, deterministic=True, single_cls=False, rect=False, cos_lr=False, close_mosaic=10, resume=False, amp=True, fraction=1.0, profile=False, freeze=None, multi_scale=False, overlap_mask=True, mask_ratio=4, dropout=0.0, val=True, split=val, save_json=False, save_hybrid=False, conf=None, iou=0.7, max_det=300, half=False, dnn=False, plots=True, source=None, vid_stride=1, stream_buffer=False, visualize=False, augment=False, agnostic_nms=False, classes=None, retina_masks=False, embed=None, show=False, save_frames=False, save_txt=False, save_conf=False, save_crop=False, show_labels=True, show_conf=True, show_boxes=True, line_width=None, format=torchscript, keras=False, optimize=False, int8=False, dynamic=False, simplify=True, opset=None, workspace=None, nms=False, lr0=0.01, lrf=0.01, momentum=0.937, weight_decay=0.0005, warmup_epochs=3.0, warmup_momentum=0.8, warmup_bias_lr=0.1, box=7.5, cls=0.5, dfl=1.5, pose=12.0, kobj=1.0, nbs=64, hsv_h=0.015, hsv_s=0.7, hsv_v=0.4, degrees=0.0, translate=0.1, scale=0.5, shear=0.0, perspective=0.0, flipud=0.0, fliplr=0.5, bgr=0.0, mosaic=1.0, mixup=0.0, copy_paste=0.0, copy_paste_mode=flip, auto_augment=randaugment, erasing=0.4, crop_fraction=1.0, cfg=None, tracker=botsort.yaml, save_dir=runs/detect/train\n",
            "Downloading https://ultralytics.com/assets/Arial.ttf to '/root/.config/Ultralytics/Arial.ttf'...\n"
          ]
        },
        {
          "output_type": "stream",
          "name": "stderr",
          "text": [
            "100%|██████████| 755k/755k [00:00<00:00, 20.9MB/s]\n"
          ]
        },
        {
          "output_type": "stream",
          "name": "stdout",
          "text": [
            "Overriding model.yaml nc=80 with nc=1\n",
            "\n",
            "                   from  n    params  module                                       arguments                     \n",
            "  0                  -1  1      1392  ultralytics.nn.modules.conv.Conv             [3, 48, 3, 2]                 \n",
            "  1                  -1  1     41664  ultralytics.nn.modules.conv.Conv             [48, 96, 3, 2]                \n",
            "  2                  -1  2    111360  ultralytics.nn.modules.block.C2f             [96, 96, 2, True]             \n",
            "  3                  -1  1    166272  ultralytics.nn.modules.conv.Conv             [96, 192, 3, 2]               \n",
            "  4                  -1  4    813312  ultralytics.nn.modules.block.C2f             [192, 192, 4, True]           \n",
            "  5                  -1  1    664320  ultralytics.nn.modules.conv.Conv             [192, 384, 3, 2]              \n",
            "  6                  -1  4   3248640  ultralytics.nn.modules.block.C2f             [384, 384, 4, True]           \n",
            "  7                  -1  1   1991808  ultralytics.nn.modules.conv.Conv             [384, 576, 3, 2]              \n",
            "  8                  -1  2   3985920  ultralytics.nn.modules.block.C2f             [576, 576, 2, True]           \n",
            "  9                  -1  1    831168  ultralytics.nn.modules.block.SPPF            [576, 576, 5]                 \n",
            " 10                  -1  1         0  torch.nn.modules.upsampling.Upsample         [None, 2, 'nearest']          \n",
            " 11             [-1, 6]  1         0  ultralytics.nn.modules.conv.Concat           [1]                           \n",
            " 12                  -1  2   1993728  ultralytics.nn.modules.block.C2f             [960, 384, 2]                 \n",
            " 13                  -1  1         0  torch.nn.modules.upsampling.Upsample         [None, 2, 'nearest']          \n",
            " 14             [-1, 4]  1         0  ultralytics.nn.modules.conv.Concat           [1]                           \n",
            " 15                  -1  2    517632  ultralytics.nn.modules.block.C2f             [576, 192, 2]                 \n",
            " 16                  -1  1    332160  ultralytics.nn.modules.conv.Conv             [192, 192, 3, 2]              \n",
            " 17            [-1, 12]  1         0  ultralytics.nn.modules.conv.Concat           [1]                           \n",
            " 18                  -1  2   1846272  ultralytics.nn.modules.block.C2f             [576, 384, 2]                 \n",
            " 19                  -1  1   1327872  ultralytics.nn.modules.conv.Conv             [384, 384, 3, 2]              \n",
            " 20             [-1, 9]  1         0  ultralytics.nn.modules.conv.Concat           [1]                           \n",
            " 21                  -1  2   4207104  ultralytics.nn.modules.block.C2f             [960, 576, 2]                 \n",
            " 22        [15, 18, 21]  1   3776275  ultralytics.nn.modules.head.Detect           [1, [192, 384, 576]]          \n",
            "Model summary: 295 layers, 25,856,899 parameters, 25,856,883 gradients, 79.1 GFLOPs\n",
            "\n",
            "Transferred 469/475 items from pretrained weights\n",
            "\u001b[34m\u001b[1mTensorBoard: \u001b[0mStart with 'tensorboard --logdir runs/detect/train', view at http://localhost:6006/\n",
            "Freezing layer 'model.22.dfl.conv.weight'\n",
            "\u001b[34m\u001b[1mAMP: \u001b[0mrunning Automatic Mixed Precision (AMP) checks...\n",
            "Downloading https://github.com/ultralytics/assets/releases/download/v8.3.0/yolo11n.pt to 'yolo11n.pt'...\n"
          ]
        },
        {
          "output_type": "stream",
          "name": "stderr",
          "text": [
            "100%|██████████| 5.35M/5.35M [00:00<00:00, 90.9MB/s]\n"
          ]
        },
        {
          "output_type": "stream",
          "name": "stdout",
          "text": [
            "\u001b[34m\u001b[1mAMP: \u001b[0mchecks passed ✅\n"
          ]
        },
        {
          "output_type": "stream",
          "name": "stderr",
          "text": [
            "\u001b[34m\u001b[1mtrain: \u001b[0mScanning /content/dataset/train/labels... 915 images, 0 backgrounds, 0 corrupt: 100%|██████████| 915/915 [00:00<00:00, 2227.02it/s]"
          ]
        },
        {
          "output_type": "stream",
          "name": "stdout",
          "text": [
            "\u001b[34m\u001b[1mtrain: \u001b[0mNew cache created: /content/dataset/train/labels.cache\n",
            "WARNING ⚠️ Box and segment counts should be equal, but got len(segments) = 107, len(boxes) = 1022. To resolve this only boxes will be used and all segments will be removed. To avoid this please supply either a detect or segment dataset, not a detect-segment mixed dataset.\n"
          ]
        },
        {
          "output_type": "stream",
          "name": "stderr",
          "text": [
            "\n"
          ]
        },
        {
          "output_type": "stream",
          "name": "stdout",
          "text": [
            "\u001b[34m\u001b[1malbumentations: \u001b[0mBlur(p=0.01, blur_limit=(3, 7)), MedianBlur(p=0.01, blur_limit=(3, 7)), ToGray(p=0.01, num_output_channels=3, method='weighted_average'), CLAHE(p=0.01, clip_limit=(1.0, 4.0), tile_grid_size=(8, 8))\n"
          ]
        },
        {
          "output_type": "stream",
          "name": "stderr",
          "text": [
            "\u001b[34m\u001b[1mval: \u001b[0mScanning /content/dataset/valid/labels... 231 images, 0 backgrounds, 0 corrupt: 100%|██████████| 231/231 [00:00<00:00, 1695.09it/s]"
          ]
        },
        {
          "output_type": "stream",
          "name": "stdout",
          "text": [
            "\u001b[34m\u001b[1mval: \u001b[0mNew cache created: /content/dataset/valid/labels.cache\n",
            "WARNING ⚠️ Box and segment counts should be equal, but got len(segments) = 18, len(boxes) = 244. To resolve this only boxes will be used and all segments will be removed. To avoid this please supply either a detect or segment dataset, not a detect-segment mixed dataset.\n"
          ]
        },
        {
          "output_type": "stream",
          "name": "stderr",
          "text": [
            "\n"
          ]
        },
        {
          "output_type": "stream",
          "name": "stdout",
          "text": [
            "Plotting labels to runs/detect/train/labels.jpg... \n",
            "\u001b[34m\u001b[1moptimizer:\u001b[0m 'optimizer=auto' found, ignoring 'lr0=0.01' and 'momentum=0.937' and determining best 'optimizer', 'lr0' and 'momentum' automatically... \n",
            "\u001b[34m\u001b[1moptimizer:\u001b[0m AdamW(lr=0.002, momentum=0.9) with parameter groups 77 weight(decay=0.0), 84 weight(decay=0.0005), 83 bias(decay=0.0)\n",
            "\u001b[34m\u001b[1mTensorBoard: \u001b[0mmodel graph visualization added ✅\n",
            "Image sizes 640 train, 640 val\n",
            "Using 2 dataloader workers\n",
            "Logging results to \u001b[1mruns/detect/train\u001b[0m\n",
            "Starting training for 15 epochs...\n",
            "\n",
            "      Epoch    GPU_mem   box_loss   cls_loss   dfl_loss  Instances       Size\n"
          ]
        },
        {
          "output_type": "stream",
          "name": "stderr",
          "text": [
            "       1/15      6.81G      1.025      1.415      1.399          4        640: 100%|██████████| 58/58 [00:30<00:00,  1.89it/s]\n",
            "                 Class     Images  Instances      Box(P          R      mAP50  mAP50-95): 100%|██████████| 8/8 [00:04<00:00,  1.91it/s]\n"
          ]
        },
        {
          "output_type": "stream",
          "name": "stdout",
          "text": [
            "                   all        231        244    0.00189      0.193    0.00111    0.00047\n",
            "\n",
            "      Epoch    GPU_mem   box_loss   cls_loss   dfl_loss  Instances       Size\n"
          ]
        },
        {
          "output_type": "stream",
          "name": "stderr",
          "text": [
            "       2/15      6.87G      1.228      1.357      1.547          8        640: 100%|██████████| 58/58 [00:29<00:00,  1.99it/s]\n",
            "                 Class     Images  Instances      Box(P          R      mAP50  mAP50-95): 100%|██████████| 8/8 [00:03<00:00,  2.52it/s]\n"
          ]
        },
        {
          "output_type": "stream",
          "name": "stdout",
          "text": [
            "                   all        231        244     0.0019       0.32    0.00121   0.000333\n",
            "\n",
            "      Epoch    GPU_mem   box_loss   cls_loss   dfl_loss  Instances       Size\n"
          ]
        },
        {
          "output_type": "stream",
          "name": "stderr",
          "text": [
            "       3/15      6.86G      1.294      1.338      1.577          5        640: 100%|██████████| 58/58 [00:29<00:00,  1.94it/s]\n",
            "                 Class     Images  Instances      Box(P          R      mAP50  mAP50-95): 100%|██████████| 8/8 [00:03<00:00,  2.14it/s]"
          ]
        },
        {
          "output_type": "stream",
          "name": "stdout",
          "text": [
            "                   all        231        244     0.0969      0.299     0.0807     0.0379\n"
          ]
        },
        {
          "output_type": "stream",
          "name": "stderr",
          "text": [
            "\n"
          ]
        },
        {
          "output_type": "stream",
          "name": "stdout",
          "text": [
            "\n",
            "      Epoch    GPU_mem   box_loss   cls_loss   dfl_loss  Instances       Size\n"
          ]
        },
        {
          "output_type": "stream",
          "name": "stderr",
          "text": [
            "       4/15      6.86G      1.173      1.162      1.461          8        640: 100%|██████████| 58/58 [00:30<00:00,  1.90it/s]\n",
            "                 Class     Images  Instances      Box(P          R      mAP50  mAP50-95): 100%|██████████| 8/8 [00:03<00:00,  2.23it/s]\n"
          ]
        },
        {
          "output_type": "stream",
          "name": "stdout",
          "text": [
            "                   all        231        244       0.41      0.434      0.349      0.186\n",
            "\n",
            "      Epoch    GPU_mem   box_loss   cls_loss   dfl_loss  Instances       Size\n"
          ]
        },
        {
          "output_type": "stream",
          "name": "stderr",
          "text": [
            "       5/15      6.75G       1.07      1.048      1.404          7        640: 100%|██████████| 58/58 [00:29<00:00,  1.96it/s]\n",
            "                 Class     Images  Instances      Box(P          R      mAP50  mAP50-95): 100%|██████████| 8/8 [00:03<00:00,  2.22it/s]"
          ]
        },
        {
          "output_type": "stream",
          "name": "stdout",
          "text": [
            "                   all        231        244      0.534      0.574      0.551      0.316\n"
          ]
        },
        {
          "output_type": "stream",
          "name": "stderr",
          "text": [
            "\n"
          ]
        },
        {
          "output_type": "stream",
          "name": "stdout",
          "text": [
            "Closing dataloader mosaic\n",
            "\u001b[34m\u001b[1malbumentations: \u001b[0mBlur(p=0.01, blur_limit=(3, 7)), MedianBlur(p=0.01, blur_limit=(3, 7)), ToGray(p=0.01, num_output_channels=3, method='weighted_average'), CLAHE(p=0.01, clip_limit=(1.0, 4.0), tile_grid_size=(8, 8))\n",
            "\n",
            "      Epoch    GPU_mem   box_loss   cls_loss   dfl_loss  Instances       Size\n"
          ]
        },
        {
          "output_type": "stream",
          "name": "stderr",
          "text": [
            "       6/15      6.84G      1.024     0.9826       1.44          3        640: 100%|██████████| 58/58 [00:30<00:00,  1.90it/s]\n",
            "                 Class     Images  Instances      Box(P          R      mAP50  mAP50-95): 100%|██████████| 8/8 [00:03<00:00,  2.23it/s]\n"
          ]
        },
        {
          "output_type": "stream",
          "name": "stdout",
          "text": [
            "                   all        231        244      0.603      0.492      0.491      0.261\n",
            "\n",
            "      Epoch    GPU_mem   box_loss   cls_loss   dfl_loss  Instances       Size\n"
          ]
        },
        {
          "output_type": "stream",
          "name": "stderr",
          "text": [
            "       7/15      6.76G      1.002     0.9069      1.425          5        640: 100%|██████████| 58/58 [00:29<00:00,  1.97it/s]\n",
            "                 Class     Images  Instances      Box(P          R      mAP50  mAP50-95): 100%|██████████| 8/8 [00:03<00:00,  2.56it/s]"
          ]
        },
        {
          "output_type": "stream",
          "name": "stdout",
          "text": [
            "                   all        231        244      0.743       0.63      0.702      0.408\n"
          ]
        },
        {
          "output_type": "stream",
          "name": "stderr",
          "text": [
            "\n"
          ]
        },
        {
          "output_type": "stream",
          "name": "stdout",
          "text": [
            "\n",
            "      Epoch    GPU_mem   box_loss   cls_loss   dfl_loss  Instances       Size\n"
          ]
        },
        {
          "output_type": "stream",
          "name": "stderr",
          "text": [
            "       8/15      6.85G     0.9522     0.8355      1.392          3        640: 100%|██████████| 58/58 [00:30<00:00,  1.92it/s]\n",
            "                 Class     Images  Instances      Box(P          R      mAP50  mAP50-95): 100%|██████████| 8/8 [00:03<00:00,  2.50it/s]"
          ]
        },
        {
          "output_type": "stream",
          "name": "stdout",
          "text": [
            "                   all        231        244       0.68      0.723      0.717      0.461\n"
          ]
        },
        {
          "output_type": "stream",
          "name": "stderr",
          "text": [
            "\n"
          ]
        },
        {
          "output_type": "stream",
          "name": "stdout",
          "text": [
            "\n",
            "      Epoch    GPU_mem   box_loss   cls_loss   dfl_loss  Instances       Size\n"
          ]
        },
        {
          "output_type": "stream",
          "name": "stderr",
          "text": [
            "       9/15      6.76G     0.9148     0.7596       1.34          3        640: 100%|██████████| 58/58 [00:29<00:00,  1.94it/s]\n",
            "                 Class     Images  Instances      Box(P          R      mAP50  mAP50-95): 100%|██████████| 8/8 [00:03<00:00,  2.57it/s]"
          ]
        },
        {
          "output_type": "stream",
          "name": "stdout",
          "text": [
            "                   all        231        244       0.76      0.807       0.83      0.564\n"
          ]
        },
        {
          "output_type": "stream",
          "name": "stderr",
          "text": [
            "\n"
          ]
        },
        {
          "output_type": "stream",
          "name": "stdout",
          "text": [
            "\n",
            "      Epoch    GPU_mem   box_loss   cls_loss   dfl_loss  Instances       Size\n"
          ]
        },
        {
          "output_type": "stream",
          "name": "stderr",
          "text": [
            "      10/15      6.85G     0.8327      0.705      1.274          4        640: 100%|██████████| 58/58 [00:29<00:00,  1.95it/s]\n",
            "                 Class     Images  Instances      Box(P          R      mAP50  mAP50-95): 100%|██████████| 8/8 [00:03<00:00,  2.22it/s]"
          ]
        },
        {
          "output_type": "stream",
          "name": "stdout",
          "text": [
            "                   all        231        244      0.776      0.793      0.809      0.558\n"
          ]
        },
        {
          "output_type": "stream",
          "name": "stderr",
          "text": [
            "\n"
          ]
        },
        {
          "output_type": "stream",
          "name": "stdout",
          "text": [
            "\n",
            "      Epoch    GPU_mem   box_loss   cls_loss   dfl_loss  Instances       Size\n"
          ]
        },
        {
          "output_type": "stream",
          "name": "stderr",
          "text": [
            "      11/15      6.75G     0.8015     0.6605      1.237          7        640: 100%|██████████| 58/58 [00:29<00:00,  1.97it/s]\n",
            "                 Class     Images  Instances      Box(P          R      mAP50  mAP50-95): 100%|██████████| 8/8 [00:03<00:00,  2.58it/s]"
          ]
        },
        {
          "output_type": "stream",
          "name": "stdout",
          "text": [
            "                   all        231        244      0.783      0.795      0.843       0.58\n"
          ]
        },
        {
          "output_type": "stream",
          "name": "stderr",
          "text": [
            "\n"
          ]
        },
        {
          "output_type": "stream",
          "name": "stdout",
          "text": [
            "\n",
            "      Epoch    GPU_mem   box_loss   cls_loss   dfl_loss  Instances       Size\n"
          ]
        },
        {
          "output_type": "stream",
          "name": "stderr",
          "text": [
            "      12/15      6.84G     0.7717     0.6085        1.2          3        640: 100%|██████████| 58/58 [00:30<00:00,  1.92it/s]\n",
            "                 Class     Images  Instances      Box(P          R      mAP50  mAP50-95): 100%|██████████| 8/8 [00:03<00:00,  2.39it/s]"
          ]
        },
        {
          "output_type": "stream",
          "name": "stdout",
          "text": [
            "                   all        231        244      0.802      0.816      0.857      0.624\n"
          ]
        },
        {
          "output_type": "stream",
          "name": "stderr",
          "text": [
            "\n"
          ]
        },
        {
          "output_type": "stream",
          "name": "stdout",
          "text": [
            "\n",
            "      Epoch    GPU_mem   box_loss   cls_loss   dfl_loss  Instances       Size\n"
          ]
        },
        {
          "output_type": "stream",
          "name": "stderr",
          "text": [
            "      13/15      6.75G     0.7295     0.5652      1.186          6        640: 100%|██████████| 58/58 [00:29<00:00,  1.96it/s]\n",
            "                 Class     Images  Instances      Box(P          R      mAP50  mAP50-95): 100%|██████████| 8/8 [00:03<00:00,  2.55it/s]"
          ]
        },
        {
          "output_type": "stream",
          "name": "stdout",
          "text": [
            "                   all        231        244      0.843      0.856      0.862      0.604\n"
          ]
        },
        {
          "output_type": "stream",
          "name": "stderr",
          "text": [
            "\n"
          ]
        },
        {
          "output_type": "stream",
          "name": "stdout",
          "text": [
            "\n",
            "      Epoch    GPU_mem   box_loss   cls_loss   dfl_loss  Instances       Size\n"
          ]
        },
        {
          "output_type": "stream",
          "name": "stderr",
          "text": [
            "      14/15      6.85G     0.7003      0.526      1.157          3        640: 100%|██████████| 58/58 [00:29<00:00,  1.96it/s]\n",
            "                 Class     Images  Instances      Box(P          R      mAP50  mAP50-95): 100%|██████████| 8/8 [00:03<00:00,  2.30it/s]"
          ]
        },
        {
          "output_type": "stream",
          "name": "stdout",
          "text": [
            "                   all        231        244      0.842       0.84      0.884      0.648\n"
          ]
        },
        {
          "output_type": "stream",
          "name": "stderr",
          "text": [
            "\n"
          ]
        },
        {
          "output_type": "stream",
          "name": "stdout",
          "text": [
            "\n",
            "      Epoch    GPU_mem   box_loss   cls_loss   dfl_loss  Instances       Size\n"
          ]
        },
        {
          "output_type": "stream",
          "name": "stderr",
          "text": [
            "      15/15      6.79G     0.6563     0.5189      1.117          3        640: 100%|██████████| 58/58 [00:29<00:00,  1.97it/s]\n",
            "                 Class     Images  Instances      Box(P          R      mAP50  mAP50-95): 100%|██████████| 8/8 [00:03<00:00,  2.56it/s]"
          ]
        },
        {
          "output_type": "stream",
          "name": "stdout",
          "text": [
            "                   all        231        244       0.84      0.885      0.889      0.675\n"
          ]
        },
        {
          "output_type": "stream",
          "name": "stderr",
          "text": [
            "\n"
          ]
        },
        {
          "output_type": "stream",
          "name": "stdout",
          "text": [
            "\n",
            "15 epochs completed in 0.152 hours.\n",
            "Optimizer stripped from runs/detect/train/weights/last.pt, 52.0MB\n",
            "Optimizer stripped from runs/detect/train/weights/best.pt, 52.0MB\n",
            "\n",
            "Validating runs/detect/train/weights/best.pt...\n",
            "Ultralytics 8.3.75 🚀 Python-3.11.11 torch-2.5.1+cu124 CUDA:0 (Tesla T4, 15095MiB)\n",
            "Model summary (fused): 218 layers, 25,840,339 parameters, 0 gradients, 78.7 GFLOPs\n"
          ]
        },
        {
          "output_type": "stream",
          "name": "stderr",
          "text": [
            "                 Class     Images  Instances      Box(P          R      mAP50  mAP50-95): 100%|██████████| 8/8 [00:05<00:00,  1.56it/s]\n"
          ]
        },
        {
          "output_type": "stream",
          "name": "stdout",
          "text": [
            "                   all        231        244      0.837      0.883      0.889      0.676\n",
            "Speed: 0.2ms preprocess, 9.7ms inference, 0.1ms loss, 3.5ms postprocess per image\n",
            "Results saved to \u001b[1mruns/detect/train\u001b[0m\n"
          ]
        },
        {
          "output_type": "execute_result",
          "data": {
            "text/plain": [
              "ultralytics.utils.metrics.DetMetrics object with attributes:\n",
              "\n",
              "ap_class_index: array([0])\n",
              "box: ultralytics.utils.metrics.Metric object\n",
              "confusion_matrix: <ultralytics.utils.metrics.ConfusionMatrix object at 0x7d9f9911df90>\n",
              "curves: ['Precision-Recall(B)', 'F1-Confidence(B)', 'Precision-Confidence(B)', 'Recall-Confidence(B)']\n",
              "curves_results: [[array([          0,    0.001001,    0.002002,    0.003003,    0.004004,    0.005005,    0.006006,    0.007007,    0.008008,    0.009009,     0.01001,    0.011011,    0.012012,    0.013013,    0.014014,    0.015015,    0.016016,    0.017017,    0.018018,    0.019019,     0.02002,    0.021021,    0.022022,    0.023023,\n",
              "          0.024024,    0.025025,    0.026026,    0.027027,    0.028028,    0.029029,     0.03003,    0.031031,    0.032032,    0.033033,    0.034034,    0.035035,    0.036036,    0.037037,    0.038038,    0.039039,     0.04004,    0.041041,    0.042042,    0.043043,    0.044044,    0.045045,    0.046046,    0.047047,\n",
              "          0.048048,    0.049049,     0.05005,    0.051051,    0.052052,    0.053053,    0.054054,    0.055055,    0.056056,    0.057057,    0.058058,    0.059059,     0.06006,    0.061061,    0.062062,    0.063063,    0.064064,    0.065065,    0.066066,    0.067067,    0.068068,    0.069069,     0.07007,    0.071071,\n",
              "          0.072072,    0.073073,    0.074074,    0.075075,    0.076076,    0.077077,    0.078078,    0.079079,     0.08008,    0.081081,    0.082082,    0.083083,    0.084084,    0.085085,    0.086086,    0.087087,    0.088088,    0.089089,     0.09009,    0.091091,    0.092092,    0.093093,    0.094094,    0.095095,\n",
              "          0.096096,    0.097097,    0.098098,    0.099099,      0.1001,      0.1011,      0.1021,      0.1031,      0.1041,     0.10511,     0.10611,     0.10711,     0.10811,     0.10911,     0.11011,     0.11111,     0.11211,     0.11311,     0.11411,     0.11512,     0.11612,     0.11712,     0.11812,     0.11912,\n",
              "           0.12012,     0.12112,     0.12212,     0.12312,     0.12412,     0.12513,     0.12613,     0.12713,     0.12813,     0.12913,     0.13013,     0.13113,     0.13213,     0.13313,     0.13413,     0.13514,     0.13614,     0.13714,     0.13814,     0.13914,     0.14014,     0.14114,     0.14214,     0.14314,\n",
              "           0.14414,     0.14515,     0.14615,     0.14715,     0.14815,     0.14915,     0.15015,     0.15115,     0.15215,     0.15315,     0.15415,     0.15516,     0.15616,     0.15716,     0.15816,     0.15916,     0.16016,     0.16116,     0.16216,     0.16316,     0.16416,     0.16517,     0.16617,     0.16717,\n",
              "           0.16817,     0.16917,     0.17017,     0.17117,     0.17217,     0.17317,     0.17417,     0.17518,     0.17618,     0.17718,     0.17818,     0.17918,     0.18018,     0.18118,     0.18218,     0.18318,     0.18418,     0.18519,     0.18619,     0.18719,     0.18819,     0.18919,     0.19019,     0.19119,\n",
              "           0.19219,     0.19319,     0.19419,      0.1952,      0.1962,      0.1972,      0.1982,      0.1992,      0.2002,      0.2012,      0.2022,      0.2032,      0.2042,     0.20521,     0.20621,     0.20721,     0.20821,     0.20921,     0.21021,     0.21121,     0.21221,     0.21321,     0.21421,     0.21522,\n",
              "           0.21622,     0.21722,     0.21822,     0.21922,     0.22022,     0.22122,     0.22222,     0.22322,     0.22422,     0.22523,     0.22623,     0.22723,     0.22823,     0.22923,     0.23023,     0.23123,     0.23223,     0.23323,     0.23423,     0.23524,     0.23624,     0.23724,     0.23824,     0.23924,\n",
              "           0.24024,     0.24124,     0.24224,     0.24324,     0.24424,     0.24525,     0.24625,     0.24725,     0.24825,     0.24925,     0.25025,     0.25125,     0.25225,     0.25325,     0.25425,     0.25526,     0.25626,     0.25726,     0.25826,     0.25926,     0.26026,     0.26126,     0.26226,     0.26326,\n",
              "           0.26426,     0.26527,     0.26627,     0.26727,     0.26827,     0.26927,     0.27027,     0.27127,     0.27227,     0.27327,     0.27427,     0.27528,     0.27628,     0.27728,     0.27828,     0.27928,     0.28028,     0.28128,     0.28228,     0.28328,     0.28428,     0.28529,     0.28629,     0.28729,\n",
              "           0.28829,     0.28929,     0.29029,     0.29129,     0.29229,     0.29329,     0.29429,      0.2953,      0.2963,      0.2973,      0.2983,      0.2993,      0.3003,      0.3013,      0.3023,      0.3033,      0.3043,     0.30531,     0.30631,     0.30731,     0.30831,     0.30931,     0.31031,     0.31131,\n",
              "           0.31231,     0.31331,     0.31431,     0.31532,     0.31632,     0.31732,     0.31832,     0.31932,     0.32032,     0.32132,     0.32232,     0.32332,     0.32432,     0.32533,     0.32633,     0.32733,     0.32833,     0.32933,     0.33033,     0.33133,     0.33233,     0.33333,     0.33433,     0.33534,\n",
              "           0.33634,     0.33734,     0.33834,     0.33934,     0.34034,     0.34134,     0.34234,     0.34334,     0.34434,     0.34535,     0.34635,     0.34735,     0.34835,     0.34935,     0.35035,     0.35135,     0.35235,     0.35335,     0.35435,     0.35536,     0.35636,     0.35736,     0.35836,     0.35936,\n",
              "           0.36036,     0.36136,     0.36236,     0.36336,     0.36436,     0.36537,     0.36637,     0.36737,     0.36837,     0.36937,     0.37037,     0.37137,     0.37237,     0.37337,     0.37437,     0.37538,     0.37638,     0.37738,     0.37838,     0.37938,     0.38038,     0.38138,     0.38238,     0.38338,\n",
              "           0.38438,     0.38539,     0.38639,     0.38739,     0.38839,     0.38939,     0.39039,     0.39139,     0.39239,     0.39339,     0.39439,      0.3954,      0.3964,      0.3974,      0.3984,      0.3994,      0.4004,      0.4014,      0.4024,      0.4034,      0.4044,     0.40541,     0.40641,     0.40741,\n",
              "           0.40841,     0.40941,     0.41041,     0.41141,     0.41241,     0.41341,     0.41441,     0.41542,     0.41642,     0.41742,     0.41842,     0.41942,     0.42042,     0.42142,     0.42242,     0.42342,     0.42442,     0.42543,     0.42643,     0.42743,     0.42843,     0.42943,     0.43043,     0.43143,\n",
              "           0.43243,     0.43343,     0.43443,     0.43544,     0.43644,     0.43744,     0.43844,     0.43944,     0.44044,     0.44144,     0.44244,     0.44344,     0.44444,     0.44545,     0.44645,     0.44745,     0.44845,     0.44945,     0.45045,     0.45145,     0.45245,     0.45345,     0.45445,     0.45546,\n",
              "           0.45646,     0.45746,     0.45846,     0.45946,     0.46046,     0.46146,     0.46246,     0.46346,     0.46446,     0.46547,     0.46647,     0.46747,     0.46847,     0.46947,     0.47047,     0.47147,     0.47247,     0.47347,     0.47447,     0.47548,     0.47648,     0.47748,     0.47848,     0.47948,\n",
              "           0.48048,     0.48148,     0.48248,     0.48348,     0.48448,     0.48549,     0.48649,     0.48749,     0.48849,     0.48949,     0.49049,     0.49149,     0.49249,     0.49349,     0.49449,      0.4955,      0.4965,      0.4975,      0.4985,      0.4995,      0.5005,      0.5015,      0.5025,      0.5035,\n",
              "            0.5045,     0.50551,     0.50651,     0.50751,     0.50851,     0.50951,     0.51051,     0.51151,     0.51251,     0.51351,     0.51451,     0.51552,     0.51652,     0.51752,     0.51852,     0.51952,     0.52052,     0.52152,     0.52252,     0.52352,     0.52452,     0.52553,     0.52653,     0.52753,\n",
              "           0.52853,     0.52953,     0.53053,     0.53153,     0.53253,     0.53353,     0.53453,     0.53554,     0.53654,     0.53754,     0.53854,     0.53954,     0.54054,     0.54154,     0.54254,     0.54354,     0.54454,     0.54555,     0.54655,     0.54755,     0.54855,     0.54955,     0.55055,     0.55155,\n",
              "           0.55255,     0.55355,     0.55455,     0.55556,     0.55656,     0.55756,     0.55856,     0.55956,     0.56056,     0.56156,     0.56256,     0.56356,     0.56456,     0.56557,     0.56657,     0.56757,     0.56857,     0.56957,     0.57057,     0.57157,     0.57257,     0.57357,     0.57457,     0.57558,\n",
              "           0.57658,     0.57758,     0.57858,     0.57958,     0.58058,     0.58158,     0.58258,     0.58358,     0.58458,     0.58559,     0.58659,     0.58759,     0.58859,     0.58959,     0.59059,     0.59159,     0.59259,     0.59359,     0.59459,      0.5956,      0.5966,      0.5976,      0.5986,      0.5996,\n",
              "            0.6006,      0.6016,      0.6026,      0.6036,      0.6046,     0.60561,     0.60661,     0.60761,     0.60861,     0.60961,     0.61061,     0.61161,     0.61261,     0.61361,     0.61461,     0.61562,     0.61662,     0.61762,     0.61862,     0.61962,     0.62062,     0.62162,     0.62262,     0.62362,\n",
              "           0.62462,     0.62563,     0.62663,     0.62763,     0.62863,     0.62963,     0.63063,     0.63163,     0.63263,     0.63363,     0.63463,     0.63564,     0.63664,     0.63764,     0.63864,     0.63964,     0.64064,     0.64164,     0.64264,     0.64364,     0.64464,     0.64565,     0.64665,     0.64765,\n",
              "           0.64865,     0.64965,     0.65065,     0.65165,     0.65265,     0.65365,     0.65465,     0.65566,     0.65666,     0.65766,     0.65866,     0.65966,     0.66066,     0.66166,     0.66266,     0.66366,     0.66466,     0.66567,     0.66667,     0.66767,     0.66867,     0.66967,     0.67067,     0.67167,\n",
              "           0.67267,     0.67367,     0.67467,     0.67568,     0.67668,     0.67768,     0.67868,     0.67968,     0.68068,     0.68168,     0.68268,     0.68368,     0.68468,     0.68569,     0.68669,     0.68769,     0.68869,     0.68969,     0.69069,     0.69169,     0.69269,     0.69369,     0.69469,      0.6957,\n",
              "            0.6967,      0.6977,      0.6987,      0.6997,      0.7007,      0.7017,      0.7027,      0.7037,      0.7047,     0.70571,     0.70671,     0.70771,     0.70871,     0.70971,     0.71071,     0.71171,     0.71271,     0.71371,     0.71471,     0.71572,     0.71672,     0.71772,     0.71872,     0.71972,\n",
              "           0.72072,     0.72172,     0.72272,     0.72372,     0.72472,     0.72573,     0.72673,     0.72773,     0.72873,     0.72973,     0.73073,     0.73173,     0.73273,     0.73373,     0.73473,     0.73574,     0.73674,     0.73774,     0.73874,     0.73974,     0.74074,     0.74174,     0.74274,     0.74374,\n",
              "           0.74474,     0.74575,     0.74675,     0.74775,     0.74875,     0.74975,     0.75075,     0.75175,     0.75275,     0.75375,     0.75475,     0.75576,     0.75676,     0.75776,     0.75876,     0.75976,     0.76076,     0.76176,     0.76276,     0.76376,     0.76476,     0.76577,     0.76677,     0.76777,\n",
              "           0.76877,     0.76977,     0.77077,     0.77177,     0.77277,     0.77377,     0.77477,     0.77578,     0.77678,     0.77778,     0.77878,     0.77978,     0.78078,     0.78178,     0.78278,     0.78378,     0.78478,     0.78579,     0.78679,     0.78779,     0.78879,     0.78979,     0.79079,     0.79179,\n",
              "           0.79279,     0.79379,     0.79479,      0.7958,      0.7968,      0.7978,      0.7988,      0.7998,      0.8008,      0.8018,      0.8028,      0.8038,      0.8048,     0.80581,     0.80681,     0.80781,     0.80881,     0.80981,     0.81081,     0.81181,     0.81281,     0.81381,     0.81481,     0.81582,\n",
              "           0.81682,     0.81782,     0.81882,     0.81982,     0.82082,     0.82182,     0.82282,     0.82382,     0.82482,     0.82583,     0.82683,     0.82783,     0.82883,     0.82983,     0.83083,     0.83183,     0.83283,     0.83383,     0.83483,     0.83584,     0.83684,     0.83784,     0.83884,     0.83984,\n",
              "           0.84084,     0.84184,     0.84284,     0.84384,     0.84484,     0.84585,     0.84685,     0.84785,     0.84885,     0.84985,     0.85085,     0.85185,     0.85285,     0.85385,     0.85485,     0.85586,     0.85686,     0.85786,     0.85886,     0.85986,     0.86086,     0.86186,     0.86286,     0.86386,\n",
              "           0.86486,     0.86587,     0.86687,     0.86787,     0.86887,     0.86987,     0.87087,     0.87187,     0.87287,     0.87387,     0.87487,     0.87588,     0.87688,     0.87788,     0.87888,     0.87988,     0.88088,     0.88188,     0.88288,     0.88388,     0.88488,     0.88589,     0.88689,     0.88789,\n",
              "           0.88889,     0.88989,     0.89089,     0.89189,     0.89289,     0.89389,     0.89489,      0.8959,      0.8969,      0.8979,      0.8989,      0.8999,      0.9009,      0.9019,      0.9029,      0.9039,      0.9049,     0.90591,     0.90691,     0.90791,     0.90891,     0.90991,     0.91091,     0.91191,\n",
              "           0.91291,     0.91391,     0.91491,     0.91592,     0.91692,     0.91792,     0.91892,     0.91992,     0.92092,     0.92192,     0.92292,     0.92392,     0.92492,     0.92593,     0.92693,     0.92793,     0.92893,     0.92993,     0.93093,     0.93193,     0.93293,     0.93393,     0.93493,     0.93594,\n",
              "           0.93694,     0.93794,     0.93894,     0.93994,     0.94094,     0.94194,     0.94294,     0.94394,     0.94494,     0.94595,     0.94695,     0.94795,     0.94895,     0.94995,     0.95095,     0.95195,     0.95295,     0.95395,     0.95495,     0.95596,     0.95696,     0.95796,     0.95896,     0.95996,\n",
              "           0.96096,     0.96196,     0.96296,     0.96396,     0.96496,     0.96597,     0.96697,     0.96797,     0.96897,     0.96997,     0.97097,     0.97197,     0.97297,     0.97397,     0.97497,     0.97598,     0.97698,     0.97798,     0.97898,     0.97998,     0.98098,     0.98198,     0.98298,     0.98398,\n",
              "           0.98498,     0.98599,     0.98699,     0.98799,     0.98899,     0.98999,     0.99099,     0.99199,     0.99299,     0.99399,     0.99499,       0.996,       0.997,       0.998,       0.999,           1]), array([[          1,           1,           1,           1,           1,           1,           1,           1,           1,           1,           1,           1,           1,           1,           1,           1,           1,           1,           1,           1,           1,           1,           1,\n",
              "                  1,           1,           1,           1,           1,           1,           1,           1,           1,           1,           1,           1,           1,           1,           1,           1,           1,           1,           1,           1,           1,           1,           1,\n",
              "                  1,           1,           1,           1,           1,           1,           1,           1,           1,           1,           1,           1,           1,           1,           1,           1,           1,           1,           1,           1,           1,           1,           1,\n",
              "                  1,           1,           1,           1,           1,           1,           1,           1,           1,           1,           1,           1,           1,           1,           1,           1,           1,           1,           1,           1,           1,           1,           1,\n",
              "                  1,           1,           1,           1,           1,           1,           1,           1,           1,           1,           1,           1,           1,           1,           1,           1,           1,           1,           1,           1,           1,           1,           1,\n",
              "                  1,           1,           1,           1,           1,           1,           1,           1,           1,           1,           1,           1,           1,           1,           1,           1,           1,           1,           1,           1,           1,           1,           1,\n",
              "                  1,           1,           1,           1,           1,           1,           1,           1,           1,           1,           1,           1,           1,           1,           1,           1,           1,           1,           1,           1,           1,           1,           1,\n",
              "                  1,           1,           1,           1,           1,           1,           1,           1,           1,           1,           1,           1,           1,           1,           1,           1,           1,           1,           1,           1,           1,           1,           1,\n",
              "                  1,     0.98507,     0.98507,     0.98507,     0.98507,     0.98507,     0.98507,     0.98507,     0.98507,     0.98507,     0.98507,     0.98507,     0.98507,     0.98507,     0.98507,     0.98507,     0.98507,     0.98507,     0.98507,     0.98507,     0.98507,     0.98507,     0.98507,\n",
              "            0.98507,     0.98507,     0.98507,     0.98507,     0.98507,     0.98507,     0.98507,     0.98507,     0.98507,     0.98507,     0.98507,     0.98507,     0.98507,     0.98507,     0.98507,     0.98507,     0.98507,     0.98507,     0.98507,     0.98507,     0.98507,     0.98507,     0.98507,\n",
              "            0.98507,     0.98507,     0.98507,     0.98507,     0.98507,     0.98507,     0.98507,     0.98507,     0.98507,     0.98507,     0.98507,     0.98507,     0.98507,     0.98507,     0.98507,     0.98507,     0.98507,     0.98507,     0.98507,     0.98507,     0.98507,     0.98507,     0.98507,\n",
              "            0.98507,     0.98507,     0.98507,     0.98507,     0.98507,     0.98507,     0.98507,     0.98507,     0.98507,     0.98507,     0.98507,     0.98507,     0.98507,     0.98507,     0.98507,     0.98507,     0.98507,     0.98507,     0.96429,     0.96429,     0.96429,     0.96429,     0.96429,\n",
              "            0.96429,     0.96429,     0.96429,     0.96429,     0.96429,     0.96429,     0.96429,     0.96429,     0.96429,     0.96429,     0.96429,     0.96429,     0.96429,     0.96429,     0.96429,     0.96429,     0.96429,     0.96429,     0.96429,     0.96429,     0.96429,     0.96429,     0.96429,\n",
              "            0.96429,     0.96429,     0.96429,     0.96429,     0.96429,     0.96429,     0.96429,     0.96429,     0.96429,     0.96429,     0.96429,     0.96429,     0.96429,     0.96429,     0.96429,     0.96429,     0.96429,     0.96429,     0.96429,     0.96429,     0.96429,     0.96429,     0.96429,\n",
              "            0.96429,     0.96429,     0.96429,     0.96429,     0.96429,     0.96429,     0.96429,     0.96429,     0.96429,     0.96429,     0.95833,     0.95833,     0.95833,     0.95833,     0.95833,     0.95833,     0.95833,     0.95833,     0.95833,     0.95833,     0.95833,     0.95833,     0.95833,\n",
              "            0.95833,     0.95833,     0.95833,     0.95833,     0.95833,     0.95833,     0.95833,     0.95833,     0.95833,     0.95833,     0.95833,     0.95833,     0.95833,     0.95833,     0.95833,     0.95833,     0.95833,     0.95833,     0.95833,     0.95833,     0.95833,     0.95833,     0.95833,\n",
              "            0.95833,     0.95833,     0.95833,     0.95833,     0.95833,     0.95833,     0.95833,     0.95833,     0.95833,     0.95238,     0.95238,     0.95238,     0.95238,     0.95238,     0.95238,     0.95238,     0.95238,     0.95238,     0.95238,     0.95238,     0.95238,     0.95238,     0.95238,\n",
              "            0.95238,     0.95238,     0.95238,     0.95238,     0.95238,     0.95238,     0.95238,     0.95238,     0.95238,     0.95238,     0.95238,     0.95238,     0.95238,     0.95238,     0.95238,     0.95238,     0.95238,     0.95238,     0.95238,        0.95,        0.95,        0.95,        0.95,\n",
              "               0.95,        0.95,        0.95,        0.95,        0.95,        0.95,        0.95,        0.95,        0.95,        0.95,        0.95,        0.95,        0.95,        0.95,        0.95,        0.95,        0.95,        0.95,        0.95,        0.95,        0.95,        0.95,        0.95,\n",
              "               0.95,        0.95,        0.95,        0.95,        0.95,        0.95,        0.95,        0.95,        0.95,        0.95,        0.95,        0.95,        0.95,        0.95,        0.95,        0.95,        0.95,        0.95,        0.95,        0.95,        0.95,        0.95,        0.95,\n",
              "               0.95,        0.95,        0.95,        0.95,        0.95,        0.95,        0.95,     0.94309,     0.94309,     0.94309,     0.94309,     0.94309,     0.94309,     0.94309,     0.94309,     0.93651,     0.93651,     0.93651,     0.93651,     0.93651,     0.93651,     0.93651,     0.93651,\n",
              "            0.93651,     0.92969,     0.92969,     0.92969,     0.92969,     0.92593,     0.92593,     0.92593,     0.92593,     0.92593,     0.92593,     0.92593,     0.92593,     0.92593,     0.92593,     0.92593,     0.92593,     0.92593,     0.92593,     0.92593,     0.92593,     0.92593,     0.92593,\n",
              "            0.92593,     0.92593,     0.92593,     0.92593,     0.92593,     0.92593,     0.92143,     0.92143,     0.92143,     0.92143,     0.92143,     0.92143,     0.92143,     0.92143,     0.92143,     0.92143,     0.92143,     0.92143,     0.92143,     0.92143,     0.92143,     0.92143,     0.92143,\n",
              "            0.92105,     0.92105,     0.92105,     0.92105,     0.92105,     0.92105,     0.92105,     0.92105,     0.92105,     0.92105,     0.92105,     0.92105,     0.92105,     0.92105,     0.92105,     0.92105,     0.92105,     0.92105,     0.92105,     0.92105,     0.92105,     0.92105,     0.92105,\n",
              "            0.92105,     0.92105,     0.92105,     0.92105,     0.92105,     0.92105,     0.92105,     0.92105,     0.92105,     0.92105,     0.92105,     0.92105,     0.92105,     0.92105,     0.92105,     0.92105,     0.92105,     0.92105,     0.92105,     0.92105,     0.92105,     0.92105,     0.91613,\n",
              "            0.91613,     0.91613,     0.91613,     0.91613,     0.91613,     0.91613,     0.91613,     0.91195,     0.91195,     0.91195,     0.91195,     0.91195,     0.91195,     0.91195,     0.91195,     0.91195,     0.91195,     0.91195,     0.91195,     0.90683,     0.90683,     0.90683,     0.90683,\n",
              "            0.90184,     0.90184,     0.90184,     0.90184,     0.89888,     0.89888,     0.89888,     0.89888,     0.89888,     0.89888,     0.89888,     0.89888,     0.89888,     0.89888,     0.89888,     0.89888,     0.89888,     0.89888,     0.89888,     0.89888,     0.89888,     0.89888,     0.89888,\n",
              "            0.89888,     0.89888,     0.89888,     0.89888,     0.89888,     0.89888,     0.89888,     0.89888,     0.89888,     0.89888,     0.89888,     0.89888,     0.89888,     0.89888,     0.89888,     0.89888,     0.89888,     0.89888,     0.89888,     0.89888,     0.89888,     0.89888,     0.89888,\n",
              "            0.89888,     0.89888,     0.89888,     0.89888,     0.89888,     0.89888,     0.89888,     0.89888,     0.89888,     0.89888,     0.89888,     0.89888,     0.89674,     0.89674,     0.89674,     0.89674,     0.89674,     0.89674,     0.89674,     0.89674,     0.89674,     0.89674,     0.89674,\n",
              "            0.89674,     0.89674,     0.89674,     0.89674,     0.89674,     0.89674,     0.89674,     0.89674,     0.89674,     0.89362,     0.89362,     0.89362,     0.89362,     0.89362,     0.89362,     0.89362,     0.89362,     0.89362,     0.89362,     0.89362,     0.89362,     0.89119,     0.89119,\n",
              "            0.89119,     0.89119,     0.89119,     0.89119,     0.89119,     0.89119,     0.89119,     0.89119,     0.89119,     0.89119,     0.89119,     0.89119,     0.89119,     0.89119,     0.89119,     0.88832,     0.88832,     0.88832,     0.88832,     0.88832,     0.88832,     0.88832,     0.88832,\n",
              "            0.88832,     0.88832,     0.88832,     0.88832,     0.88557,     0.88557,     0.88557,     0.88557,     0.88557,     0.88557,     0.88557,     0.88557,     0.88557,     0.88557,     0.88557,     0.88557,     0.88517,     0.88517,     0.88517,     0.88517,     0.88517,     0.88517,     0.88517,\n",
              "            0.88517,     0.88517,     0.88517,     0.88517,     0.88517,     0.88517,     0.88517,     0.88517,     0.88517,     0.88517,     0.88517,     0.88517,     0.88517,     0.88517,     0.88517,     0.88517,     0.88517,     0.88517,     0.88517,     0.88517,     0.88517,     0.88517,     0.88372,\n",
              "            0.88372,     0.88372,     0.88372,     0.88372,     0.88372,     0.88372,     0.88372,     0.88372,     0.88372,     0.88372,     0.88372,     0.88372,     0.88372,     0.88372,     0.88372,     0.88372,     0.88372,     0.88372,     0.88372,     0.88073,     0.88073,     0.88073,     0.88073,\n",
              "            0.88073,     0.88073,     0.88073,     0.88073,     0.88073,     0.87892,     0.87892,     0.87892,     0.87892,     0.87892,     0.87892,     0.87892,     0.87892,     0.87892,     0.87892,     0.87892,     0.87892,     0.87892,     0.87892,     0.87892,     0.87892,     0.87773,     0.87773,\n",
              "            0.87773,     0.87773,     0.87773,     0.87773,     0.87773,     0.87773,     0.87773,     0.87773,     0.87773,     0.87773,     0.87773,     0.87773,     0.87773,     0.87773,     0.87773,     0.87773,     0.87773,     0.87773,       0.875,       0.875,       0.875,       0.875,       0.875,\n",
              "              0.875,       0.875,       0.875,       0.875,     0.87234,     0.87234,     0.87234,     0.87234,     0.87234,     0.87234,     0.87234,     0.87234,      0.8692,      0.8692,      0.8692,      0.8692,      0.8595,      0.8595,      0.8595,      0.8595,      0.8595,      0.8595,      0.8595,\n",
              "             0.8595,     0.85714,     0.85714,     0.85714,     0.85714,     0.85714,     0.85714,     0.85714,     0.85714,       0.848,       0.848,       0.848,       0.848,       0.848,       0.848,       0.848,       0.848,     0.84524,     0.84524,     0.84524,     0.84524,     0.84524,     0.84314,\n",
              "            0.84314,     0.84314,     0.84314,     0.84314,     0.84314,     0.84314,     0.84314,     0.83721,     0.83721,     0.83721,     0.83721,     0.83462,     0.83462,     0.83462,     0.83462,     0.83206,     0.83206,     0.83206,     0.83206,     0.82955,     0.82955,     0.82955,     0.82955,\n",
              "             0.8125,      0.8125,      0.8125,      0.8125,      0.8125,      0.8125,      0.8125,      0.8125,     0.81022,     0.81022,     0.81022,     0.81022,         0.8,         0.8,         0.8,         0.8,         0.8,         0.8,         0.8,         0.8,         0.8,     0.79787,     0.79787,\n",
              "            0.79787,     0.79787,     0.76351,     0.76351,     0.76351,     0.76351,     0.76174,     0.76174,     0.76174,     0.76174,     0.75497,     0.75497,     0.75497,     0.75497,     0.70462,     0.70462,     0.70462,     0.70462,     0.65527,     0.65527,     0.65527,     0.65527,     0.64345,\n",
              "            0.64345,     0.64345,     0.64345,     0.61214,     0.61214,     0.61214,     0.61214,     0.38704,     0.38704,     0.38704,     0.38704,     0.28058,     0.28058,     0.28058,     0.28058,     0.28058,     0.19243,     0.18762,     0.18281,       0.178,     0.17319,     0.16838,     0.16357,\n",
              "            0.15876,     0.15395,     0.14914,     0.14433,     0.13952,      0.1347,     0.12989,     0.12508,     0.12027,     0.11546,     0.11065,     0.10584,     0.10103,    0.096217,    0.091407,    0.086596,    0.081785,    0.076974,    0.072163,    0.067352,    0.062541,     0.05773,     0.05292,\n",
              "           0.048109,    0.043298,    0.038487,    0.033676,    0.028865,    0.024054,    0.019243,    0.014433,   0.0096217,   0.0048109,           0]]), 'Recall', 'Precision'], [array([          0,    0.001001,    0.002002,    0.003003,    0.004004,    0.005005,    0.006006,    0.007007,    0.008008,    0.009009,     0.01001,    0.011011,    0.012012,    0.013013,    0.014014,    0.015015,    0.016016,    0.017017,    0.018018,    0.019019,     0.02002,    0.021021,    0.022022,    0.023023,\n",
              "          0.024024,    0.025025,    0.026026,    0.027027,    0.028028,    0.029029,     0.03003,    0.031031,    0.032032,    0.033033,    0.034034,    0.035035,    0.036036,    0.037037,    0.038038,    0.039039,     0.04004,    0.041041,    0.042042,    0.043043,    0.044044,    0.045045,    0.046046,    0.047047,\n",
              "          0.048048,    0.049049,     0.05005,    0.051051,    0.052052,    0.053053,    0.054054,    0.055055,    0.056056,    0.057057,    0.058058,    0.059059,     0.06006,    0.061061,    0.062062,    0.063063,    0.064064,    0.065065,    0.066066,    0.067067,    0.068068,    0.069069,     0.07007,    0.071071,\n",
              "          0.072072,    0.073073,    0.074074,    0.075075,    0.076076,    0.077077,    0.078078,    0.079079,     0.08008,    0.081081,    0.082082,    0.083083,    0.084084,    0.085085,    0.086086,    0.087087,    0.088088,    0.089089,     0.09009,    0.091091,    0.092092,    0.093093,    0.094094,    0.095095,\n",
              "          0.096096,    0.097097,    0.098098,    0.099099,      0.1001,      0.1011,      0.1021,      0.1031,      0.1041,     0.10511,     0.10611,     0.10711,     0.10811,     0.10911,     0.11011,     0.11111,     0.11211,     0.11311,     0.11411,     0.11512,     0.11612,     0.11712,     0.11812,     0.11912,\n",
              "           0.12012,     0.12112,     0.12212,     0.12312,     0.12412,     0.12513,     0.12613,     0.12713,     0.12813,     0.12913,     0.13013,     0.13113,     0.13213,     0.13313,     0.13413,     0.13514,     0.13614,     0.13714,     0.13814,     0.13914,     0.14014,     0.14114,     0.14214,     0.14314,\n",
              "           0.14414,     0.14515,     0.14615,     0.14715,     0.14815,     0.14915,     0.15015,     0.15115,     0.15215,     0.15315,     0.15415,     0.15516,     0.15616,     0.15716,     0.15816,     0.15916,     0.16016,     0.16116,     0.16216,     0.16316,     0.16416,     0.16517,     0.16617,     0.16717,\n",
              "           0.16817,     0.16917,     0.17017,     0.17117,     0.17217,     0.17317,     0.17417,     0.17518,     0.17618,     0.17718,     0.17818,     0.17918,     0.18018,     0.18118,     0.18218,     0.18318,     0.18418,     0.18519,     0.18619,     0.18719,     0.18819,     0.18919,     0.19019,     0.19119,\n",
              "           0.19219,     0.19319,     0.19419,      0.1952,      0.1962,      0.1972,      0.1982,      0.1992,      0.2002,      0.2012,      0.2022,      0.2032,      0.2042,     0.20521,     0.20621,     0.20721,     0.20821,     0.20921,     0.21021,     0.21121,     0.21221,     0.21321,     0.21421,     0.21522,\n",
              "           0.21622,     0.21722,     0.21822,     0.21922,     0.22022,     0.22122,     0.22222,     0.22322,     0.22422,     0.22523,     0.22623,     0.22723,     0.22823,     0.22923,     0.23023,     0.23123,     0.23223,     0.23323,     0.23423,     0.23524,     0.23624,     0.23724,     0.23824,     0.23924,\n",
              "           0.24024,     0.24124,     0.24224,     0.24324,     0.24424,     0.24525,     0.24625,     0.24725,     0.24825,     0.24925,     0.25025,     0.25125,     0.25225,     0.25325,     0.25425,     0.25526,     0.25626,     0.25726,     0.25826,     0.25926,     0.26026,     0.26126,     0.26226,     0.26326,\n",
              "           0.26426,     0.26527,     0.26627,     0.26727,     0.26827,     0.26927,     0.27027,     0.27127,     0.27227,     0.27327,     0.27427,     0.27528,     0.27628,     0.27728,     0.27828,     0.27928,     0.28028,     0.28128,     0.28228,     0.28328,     0.28428,     0.28529,     0.28629,     0.28729,\n",
              "           0.28829,     0.28929,     0.29029,     0.29129,     0.29229,     0.29329,     0.29429,      0.2953,      0.2963,      0.2973,      0.2983,      0.2993,      0.3003,      0.3013,      0.3023,      0.3033,      0.3043,     0.30531,     0.30631,     0.30731,     0.30831,     0.30931,     0.31031,     0.31131,\n",
              "           0.31231,     0.31331,     0.31431,     0.31532,     0.31632,     0.31732,     0.31832,     0.31932,     0.32032,     0.32132,     0.32232,     0.32332,     0.32432,     0.32533,     0.32633,     0.32733,     0.32833,     0.32933,     0.33033,     0.33133,     0.33233,     0.33333,     0.33433,     0.33534,\n",
              "           0.33634,     0.33734,     0.33834,     0.33934,     0.34034,     0.34134,     0.34234,     0.34334,     0.34434,     0.34535,     0.34635,     0.34735,     0.34835,     0.34935,     0.35035,     0.35135,     0.35235,     0.35335,     0.35435,     0.35536,     0.35636,     0.35736,     0.35836,     0.35936,\n",
              "           0.36036,     0.36136,     0.36236,     0.36336,     0.36436,     0.36537,     0.36637,     0.36737,     0.36837,     0.36937,     0.37037,     0.37137,     0.37237,     0.37337,     0.37437,     0.37538,     0.37638,     0.37738,     0.37838,     0.37938,     0.38038,     0.38138,     0.38238,     0.38338,\n",
              "           0.38438,     0.38539,     0.38639,     0.38739,     0.38839,     0.38939,     0.39039,     0.39139,     0.39239,     0.39339,     0.39439,      0.3954,      0.3964,      0.3974,      0.3984,      0.3994,      0.4004,      0.4014,      0.4024,      0.4034,      0.4044,     0.40541,     0.40641,     0.40741,\n",
              "           0.40841,     0.40941,     0.41041,     0.41141,     0.41241,     0.41341,     0.41441,     0.41542,     0.41642,     0.41742,     0.41842,     0.41942,     0.42042,     0.42142,     0.42242,     0.42342,     0.42442,     0.42543,     0.42643,     0.42743,     0.42843,     0.42943,     0.43043,     0.43143,\n",
              "           0.43243,     0.43343,     0.43443,     0.43544,     0.43644,     0.43744,     0.43844,     0.43944,     0.44044,     0.44144,     0.44244,     0.44344,     0.44444,     0.44545,     0.44645,     0.44745,     0.44845,     0.44945,     0.45045,     0.45145,     0.45245,     0.45345,     0.45445,     0.45546,\n",
              "           0.45646,     0.45746,     0.45846,     0.45946,     0.46046,     0.46146,     0.46246,     0.46346,     0.46446,     0.46547,     0.46647,     0.46747,     0.46847,     0.46947,     0.47047,     0.47147,     0.47247,     0.47347,     0.47447,     0.47548,     0.47648,     0.47748,     0.47848,     0.47948,\n",
              "           0.48048,     0.48148,     0.48248,     0.48348,     0.48448,     0.48549,     0.48649,     0.48749,     0.48849,     0.48949,     0.49049,     0.49149,     0.49249,     0.49349,     0.49449,      0.4955,      0.4965,      0.4975,      0.4985,      0.4995,      0.5005,      0.5015,      0.5025,      0.5035,\n",
              "            0.5045,     0.50551,     0.50651,     0.50751,     0.50851,     0.50951,     0.51051,     0.51151,     0.51251,     0.51351,     0.51451,     0.51552,     0.51652,     0.51752,     0.51852,     0.51952,     0.52052,     0.52152,     0.52252,     0.52352,     0.52452,     0.52553,     0.52653,     0.52753,\n",
              "           0.52853,     0.52953,     0.53053,     0.53153,     0.53253,     0.53353,     0.53453,     0.53554,     0.53654,     0.53754,     0.53854,     0.53954,     0.54054,     0.54154,     0.54254,     0.54354,     0.54454,     0.54555,     0.54655,     0.54755,     0.54855,     0.54955,     0.55055,     0.55155,\n",
              "           0.55255,     0.55355,     0.55455,     0.55556,     0.55656,     0.55756,     0.55856,     0.55956,     0.56056,     0.56156,     0.56256,     0.56356,     0.56456,     0.56557,     0.56657,     0.56757,     0.56857,     0.56957,     0.57057,     0.57157,     0.57257,     0.57357,     0.57457,     0.57558,\n",
              "           0.57658,     0.57758,     0.57858,     0.57958,     0.58058,     0.58158,     0.58258,     0.58358,     0.58458,     0.58559,     0.58659,     0.58759,     0.58859,     0.58959,     0.59059,     0.59159,     0.59259,     0.59359,     0.59459,      0.5956,      0.5966,      0.5976,      0.5986,      0.5996,\n",
              "            0.6006,      0.6016,      0.6026,      0.6036,      0.6046,     0.60561,     0.60661,     0.60761,     0.60861,     0.60961,     0.61061,     0.61161,     0.61261,     0.61361,     0.61461,     0.61562,     0.61662,     0.61762,     0.61862,     0.61962,     0.62062,     0.62162,     0.62262,     0.62362,\n",
              "           0.62462,     0.62563,     0.62663,     0.62763,     0.62863,     0.62963,     0.63063,     0.63163,     0.63263,     0.63363,     0.63463,     0.63564,     0.63664,     0.63764,     0.63864,     0.63964,     0.64064,     0.64164,     0.64264,     0.64364,     0.64464,     0.64565,     0.64665,     0.64765,\n",
              "           0.64865,     0.64965,     0.65065,     0.65165,     0.65265,     0.65365,     0.65465,     0.65566,     0.65666,     0.65766,     0.65866,     0.65966,     0.66066,     0.66166,     0.66266,     0.66366,     0.66466,     0.66567,     0.66667,     0.66767,     0.66867,     0.66967,     0.67067,     0.67167,\n",
              "           0.67267,     0.67367,     0.67467,     0.67568,     0.67668,     0.67768,     0.67868,     0.67968,     0.68068,     0.68168,     0.68268,     0.68368,     0.68468,     0.68569,     0.68669,     0.68769,     0.68869,     0.68969,     0.69069,     0.69169,     0.69269,     0.69369,     0.69469,      0.6957,\n",
              "            0.6967,      0.6977,      0.6987,      0.6997,      0.7007,      0.7017,      0.7027,      0.7037,      0.7047,     0.70571,     0.70671,     0.70771,     0.70871,     0.70971,     0.71071,     0.71171,     0.71271,     0.71371,     0.71471,     0.71572,     0.71672,     0.71772,     0.71872,     0.71972,\n",
              "           0.72072,     0.72172,     0.72272,     0.72372,     0.72472,     0.72573,     0.72673,     0.72773,     0.72873,     0.72973,     0.73073,     0.73173,     0.73273,     0.73373,     0.73473,     0.73574,     0.73674,     0.73774,     0.73874,     0.73974,     0.74074,     0.74174,     0.74274,     0.74374,\n",
              "           0.74474,     0.74575,     0.74675,     0.74775,     0.74875,     0.74975,     0.75075,     0.75175,     0.75275,     0.75375,     0.75475,     0.75576,     0.75676,     0.75776,     0.75876,     0.75976,     0.76076,     0.76176,     0.76276,     0.76376,     0.76476,     0.76577,     0.76677,     0.76777,\n",
              "           0.76877,     0.76977,     0.77077,     0.77177,     0.77277,     0.77377,     0.77477,     0.77578,     0.77678,     0.77778,     0.77878,     0.77978,     0.78078,     0.78178,     0.78278,     0.78378,     0.78478,     0.78579,     0.78679,     0.78779,     0.78879,     0.78979,     0.79079,     0.79179,\n",
              "           0.79279,     0.79379,     0.79479,      0.7958,      0.7968,      0.7978,      0.7988,      0.7998,      0.8008,      0.8018,      0.8028,      0.8038,      0.8048,     0.80581,     0.80681,     0.80781,     0.80881,     0.80981,     0.81081,     0.81181,     0.81281,     0.81381,     0.81481,     0.81582,\n",
              "           0.81682,     0.81782,     0.81882,     0.81982,     0.82082,     0.82182,     0.82282,     0.82382,     0.82482,     0.82583,     0.82683,     0.82783,     0.82883,     0.82983,     0.83083,     0.83183,     0.83283,     0.83383,     0.83483,     0.83584,     0.83684,     0.83784,     0.83884,     0.83984,\n",
              "           0.84084,     0.84184,     0.84284,     0.84384,     0.84484,     0.84585,     0.84685,     0.84785,     0.84885,     0.84985,     0.85085,     0.85185,     0.85285,     0.85385,     0.85485,     0.85586,     0.85686,     0.85786,     0.85886,     0.85986,     0.86086,     0.86186,     0.86286,     0.86386,\n",
              "           0.86486,     0.86587,     0.86687,     0.86787,     0.86887,     0.86987,     0.87087,     0.87187,     0.87287,     0.87387,     0.87487,     0.87588,     0.87688,     0.87788,     0.87888,     0.87988,     0.88088,     0.88188,     0.88288,     0.88388,     0.88488,     0.88589,     0.88689,     0.88789,\n",
              "           0.88889,     0.88989,     0.89089,     0.89189,     0.89289,     0.89389,     0.89489,      0.8959,      0.8969,      0.8979,      0.8989,      0.8999,      0.9009,      0.9019,      0.9029,      0.9039,      0.9049,     0.90591,     0.90691,     0.90791,     0.90891,     0.90991,     0.91091,     0.91191,\n",
              "           0.91291,     0.91391,     0.91491,     0.91592,     0.91692,     0.91792,     0.91892,     0.91992,     0.92092,     0.92192,     0.92292,     0.92392,     0.92492,     0.92593,     0.92693,     0.92793,     0.92893,     0.92993,     0.93093,     0.93193,     0.93293,     0.93393,     0.93493,     0.93594,\n",
              "           0.93694,     0.93794,     0.93894,     0.93994,     0.94094,     0.94194,     0.94294,     0.94394,     0.94494,     0.94595,     0.94695,     0.94795,     0.94895,     0.94995,     0.95095,     0.95195,     0.95295,     0.95395,     0.95495,     0.95596,     0.95696,     0.95796,     0.95896,     0.95996,\n",
              "           0.96096,     0.96196,     0.96296,     0.96396,     0.96496,     0.96597,     0.96697,     0.96797,     0.96897,     0.96997,     0.97097,     0.97197,     0.97297,     0.97397,     0.97497,     0.97598,     0.97698,     0.97798,     0.97898,     0.97998,     0.98098,     0.98198,     0.98298,     0.98398,\n",
              "           0.98498,     0.98599,     0.98699,     0.98799,     0.98899,     0.98999,     0.99099,     0.99199,     0.99299,     0.99399,     0.99499,       0.996,       0.997,       0.998,       0.999,           1]), array([[    0.32682,     0.32682,     0.44527,     0.51347,     0.55475,     0.58044,     0.60935,      0.6317,     0.64629,     0.66258,     0.67096,     0.68089,     0.69211,      0.7007,     0.71186,     0.71567,     0.72225,      0.7251,     0.72666,     0.72826,     0.73043,     0.73319,     0.73824,\n",
              "            0.74407,     0.74477,     0.74667,     0.75345,     0.75893,     0.76224,     0.76326,     0.76512,      0.7659,     0.76728,     0.77158,     0.77165,     0.77336,     0.77576,     0.77845,     0.78044,     0.78135,     0.78465,     0.78566,     0.78737,     0.79012,     0.79173,     0.79383,\n",
              "            0.79681,     0.79804,     0.79845,     0.79886,     0.79927,     0.80065,     0.80105,     0.80142,     0.80179,     0.80221,     0.80289,     0.80475,      0.8034,     0.80436,     0.80482,     0.80528,     0.80602,     0.80745,     0.80818,     0.80923,     0.81003,     0.81021,     0.81039,\n",
              "            0.81057,     0.81074,     0.81092,      0.8111,     0.81128,     0.81207,     0.81361,      0.8163,     0.81779,     0.81874,      0.8211,     0.82187,     0.82228,     0.82268,     0.82309,     0.82473,     0.82534,     0.82595,     0.82692,     0.82777,     0.82827,     0.82876,     0.82924,\n",
              "            0.82968,     0.83012,     0.83056,     0.83151,     0.83263,     0.83462,     0.83378,     0.83344,     0.83423,     0.83464,     0.83479,     0.83494,     0.83508,     0.83523,     0.83538,     0.83552,     0.83567,     0.83582,     0.83596,     0.83632,     0.83554,     0.83572,      0.8359,\n",
              "            0.83608,     0.83626,     0.83644,     0.83662,      0.8368,     0.83698,     0.83649,      0.8357,     0.83492,     0.83694,     0.83759,     0.83957,     0.84013,     0.84069,     0.84119,     0.84151,     0.84182,     0.84214,     0.84245,     0.84289,     0.84375,     0.84439,     0.84466,\n",
              "            0.84494,     0.84522,     0.84549,     0.84577,     0.84731,     0.84758,     0.84772,     0.84785,     0.84799,     0.84812,     0.84826,      0.8484,     0.84853,     0.84867,      0.8488,     0.84894,     0.84911,     0.84964,     0.85016,     0.85067,     0.85083,     0.85099,     0.85115,\n",
              "            0.85131,     0.85147,     0.85163,     0.85178,     0.85194,      0.8521,     0.85226,     0.85413,     0.85466,     0.85519,     0.85473,      0.8534,     0.85363,     0.85386,     0.85409,     0.85432,     0.85455,     0.85478,     0.85468,     0.85339,     0.85241,     0.85172,     0.85103,\n",
              "            0.85115,     0.85227,     0.85243,      0.8526,     0.85277,     0.85293,      0.8531,     0.85326,     0.85343,      0.8536,     0.85376,     0.85518,     0.85581,     0.85616,     0.85652,     0.85688,     0.85695,     0.85616,     0.85537,     0.85503,     0.85526,     0.85549,     0.85571,\n",
              "            0.85594,     0.85617,     0.85639,     0.85644,     0.85531,     0.85434,     0.85415,     0.85396,     0.85376,     0.85357,     0.85338,     0.85319,       0.853,     0.85281,     0.85262,     0.85243,     0.85224,     0.85226,     0.85252,     0.85278,     0.85303,     0.85329,     0.85355,\n",
              "             0.8538,     0.85408,     0.85436,     0.85464,     0.85492,      0.8552,     0.85547,     0.85567,     0.85587,     0.85606,     0.85626,     0.85646,     0.85665,     0.85685,     0.85704,     0.85726,      0.8575,     0.85775,     0.85799,     0.85823,     0.85847,     0.85871,     0.85886,\n",
              "            0.85894,     0.85901,     0.85908,     0.85916,     0.85923,     0.85931,     0.85938,     0.85945,     0.85953,      0.8596,     0.85967,     0.85975,     0.85982,     0.85989,     0.85997,     0.86004,     0.86012,     0.86019,     0.86026,     0.86034,     0.86041,     0.86048,     0.86062,\n",
              "             0.8608,     0.86098,     0.86116,     0.86133,     0.86151,     0.86169,     0.86187,     0.86205,     0.86217,     0.86188,     0.86158,     0.86128,     0.86099,     0.86069,     0.86039,      0.8601,     0.86043,     0.86131,     0.86152,     0.86128,     0.86105,     0.86081,     0.86057,\n",
              "            0.86034,      0.8601,     0.85986,     0.85962,     0.85943,     0.85972,     0.86001,      0.8603,      0.8606,     0.86089,     0.86085,     0.85969,     0.85982,     0.86048,     0.86037,     0.86027,     0.86017,     0.86007,     0.85997,     0.85986,     0.85976,     0.85966,     0.85956,\n",
              "            0.85945,     0.85935,     0.85925,     0.85915,     0.85904,     0.85894,     0.85884,     0.85874,     0.85863,     0.85853,     0.85843,     0.85833,     0.85841,     0.85861,     0.85882,     0.85903,     0.85924,     0.85944,     0.85965,     0.85986,     0.86003,     0.86014,     0.86025,\n",
              "            0.86036,     0.86047,     0.86058,     0.86069,     0.86079,      0.8609,     0.86101,     0.86112,     0.86123,     0.86134,     0.86145,     0.86155,     0.86166,     0.86169,      0.8616,     0.86152,     0.86143,     0.86135,     0.86126,     0.86118,      0.8611,     0.86101,     0.86093,\n",
              "            0.86084,     0.86076,     0.86067,     0.86059,      0.8605,     0.86042,     0.86034,     0.86025,     0.86017,     0.86008,        0.86,     0.85991,     0.85983,     0.85974,     0.85966,     0.85958,     0.85949,     0.85752,     0.85854,     0.85729,     0.85663,     0.85673,     0.85683,\n",
              "            0.85693,     0.85702,     0.85712,     0.85722,     0.85732,     0.85741,     0.85751,     0.85761,     0.85771,      0.8578,      0.8579,       0.858,     0.85809,     0.85819,     0.85829,     0.85793,     0.85752,     0.85711,      0.8567,     0.85628,     0.85592,     0.85567,     0.85543,\n",
              "            0.85518,     0.85494,     0.85469,     0.85445,     0.85421,     0.85396,     0.85372,     0.85395,     0.85432,      0.8547,     0.85507,     0.85715,      0.8572,     0.85725,     0.85729,     0.85734,     0.85739,     0.85744,     0.85749,     0.85753,     0.85758,     0.85763,     0.85768,\n",
              "            0.85772,     0.85777,     0.85782,     0.85787,     0.85792,     0.85796,     0.85801,     0.85806,     0.85811,     0.85816,      0.8582,     0.85825,      0.8583,     0.85835,      0.8584,     0.85844,     0.85849,     0.85854,     0.85859,     0.85863,     0.85868,     0.85873,     0.85878,\n",
              "            0.85883,     0.85887,     0.85634,     0.85594,     0.85554,     0.85514,     0.85473,     0.85433,     0.85432,     0.85449,     0.85465,     0.85482,     0.85498,     0.85514,     0.85531,     0.85547,     0.85563,      0.8558,     0.85596,     0.85558,     0.85518,     0.85477,     0.85437,\n",
              "            0.85397,     0.85356,     0.85316,     0.85276,     0.85235,     0.85195,     0.85154,      0.8517,     0.85313,     0.85358,     0.85404,     0.85449,     0.85512,     0.85603,     0.85551,     0.85444,     0.85505,     0.85566,     0.85584,     0.85564,     0.85543,     0.85523,     0.85503,\n",
              "            0.85482,     0.85462,     0.85441,     0.85421,       0.854,      0.8538,     0.85359,     0.85327,     0.85292,     0.85257,     0.85221,     0.85186,     0.85151,     0.85116,     0.85146,     0.85176,     0.85207,     0.85237,     0.85268,     0.85044,     0.84982,      0.8492,     0.84858,\n",
              "            0.84813,     0.84828,     0.84842,     0.84856,      0.8487,     0.84884,     0.84898,     0.84912,     0.84927,     0.84941,     0.84955,     0.84969,     0.84983,     0.84962,     0.84912,     0.84862,     0.84812,     0.84762,      0.8473,     0.84706,     0.84682,     0.84658,     0.84634,\n",
              "             0.8461,     0.84586,     0.84563,     0.84539,     0.84515,     0.84483,     0.84441,     0.84399,     0.84357,     0.84315,     0.84273,     0.84249,     0.84237,     0.84225,     0.84213,     0.84202,      0.8419,     0.84178,     0.84166,     0.84155,     0.84143,     0.84131,     0.84119,\n",
              "            0.84107,     0.84096,     0.84084,     0.84072,      0.8406,     0.84049,     0.84037,     0.84025,     0.84013,     0.83978,     0.83927,     0.83877,     0.83826,     0.83775,     0.83893,      0.8375,     0.83661,     0.83621,     0.83582,     0.83542,     0.83503,     0.83463,     0.83432,\n",
              "            0.83411,     0.83391,      0.8337,      0.8335,     0.83329,     0.83309,     0.83288,     0.83267,     0.83247,     0.83226,     0.83205,     0.83129,     0.82949,     0.82995,     0.83041,     0.83087,     0.83096,     0.83039,     0.82981,     0.82923,     0.82865,     0.82853,     0.82842,\n",
              "            0.82832,     0.82821,     0.82811,       0.828,     0.82789,     0.82779,     0.82768,     0.82757,     0.82747,     0.82736,     0.82725,     0.82715,     0.82704,     0.82693,     0.82683,     0.82672,     0.82661,     0.82651,      0.8264,     0.82629,     0.82619,     0.82621,     0.82785,\n",
              "            0.82741,     0.82697,     0.82654,      0.8261,     0.82566,     0.82471,     0.82207,     0.81987,     0.81881,     0.81775,     0.81683,     0.81594,     0.81505,     0.81667,     0.81642,     0.81603,     0.81565,     0.81527,     0.81488,      0.8145,     0.81385,     0.81138,      0.8103,\n",
              "            0.80922,     0.80857,     0.80812,     0.80767,     0.80721,     0.80676,     0.80631,     0.80508,     0.80372,     0.80194,     0.80056,     0.79977,     0.79898,     0.79821,     0.79837,     0.79853,     0.79869,     0.79885,     0.79901,     0.79917,     0.79933,     0.79949,     0.79965,\n",
              "            0.79981,     0.79997,     0.79582,      0.7944,     0.79384,     0.79328,     0.79272,     0.79216,     0.79204,     0.79245,     0.79286,     0.79327,     0.79088,     0.79045,     0.79001,     0.78958,     0.78914,     0.78871,     0.78827,     0.78788,      0.7875,     0.78713,     0.78675,\n",
              "            0.78637,     0.78599,     0.78561,     0.78207,     0.77896,     0.77698,      0.7762,     0.77666,     0.77712,     0.77758,      0.7761,     0.77318,     0.77168,     0.77103,     0.77038,     0.76973,     0.77075,     0.76957,     0.76839,     0.76433,     0.76035,     0.75893,     0.75832,\n",
              "            0.75772,     0.75712,     0.75652,     0.75683,     0.75716,     0.75749,     0.75783,     0.75816,     0.75215,     0.75011,      0.7486,     0.74738,     0.74597,     0.74392,     0.73726,     0.73691,     0.73656,     0.73622,     0.73587,     0.73552,     0.73518,     0.73483,     0.73448,\n",
              "            0.73182,     0.72981,     0.72615,     0.72488,     0.72092,     0.72213,     0.72175,     0.72137,     0.72099,     0.72061,     0.72023,     0.71985,     0.71947,     0.71959,      0.7208,     0.71961,     0.71799,     0.71765,     0.71616,     0.71556,     0.71497,     0.71437,     0.71377,\n",
              "            0.71317,     0.71244,      0.7117,     0.71097,     0.71024,     0.71023,     0.71056,     0.71089,     0.71122,     0.71155,     0.71152,     0.71069,     0.70986,     0.70903,     0.70581,     0.70596,     0.70669,     0.70545,     0.69707,     0.69315,     0.69178,     0.68316,     0.67999,\n",
              "            0.67929,     0.67859,     0.67789,     0.67719,     0.67573,     0.67397,     0.67085,     0.66729,      0.6625,     0.65809,     0.65627,      0.6539,     0.65146,     0.64901,     0.64068,     0.63961,     0.63854,     0.63905,     0.63891,     0.63741,     0.63637,     0.63658,     0.63129,\n",
              "            0.63001,     0.62873,     0.62559,     0.62034,     0.61565,     0.61171,     0.60774,     0.60026,     0.59703,     0.59463,      0.5926,      0.5876,     0.57814,     0.57541,     0.57332,     0.57174,     0.57243,     0.57138,     0.57033,     0.56928,     0.56301,     0.55549,     0.54734,\n",
              "            0.54444,     0.53595,     0.53299,     0.52054,     0.51321,     0.50673,     0.50175,     0.49857,      0.4947,     0.49293,     0.48887,     0.47967,      0.4744,     0.46048,      0.4559,     0.45342,      0.4495,     0.44478,     0.44226,      0.4408,     0.43967,     0.43855,     0.43743,\n",
              "            0.43548,     0.43209,     0.42868,     0.42226,     0.42436,     0.41254,     0.40898,     0.40342,     0.37723,     0.37354,      0.3444,     0.34276,     0.34112,     0.33947,     0.33695,     0.33405,     0.32453,     0.32077,      0.3193,     0.31782,     0.31634,     0.31407,     0.31169,\n",
              "            0.31083,     0.30588,     0.29891,     0.29739,     0.29587,     0.29434,     0.29269,     0.29094,     0.28918,     0.28564,     0.28028,     0.27821,     0.27613,     0.25997,     0.24084,     0.23302,     0.21807,      0.2154,     0.21272,     0.19875,     0.19751,     0.19627,     0.19503,\n",
              "            0.19378,     0.19195,     0.16521,     0.16238,     0.15954,     0.14143,     0.13494,     0.11487,     0.10988,     0.10303,    0.092936,    0.089875,    0.086805,    0.069817,    0.065897,     0.05735,    0.036822,    0.030477,    0.026395,     0.02376,    0.022665,     0.02157,    0.020473,\n",
              "           0.019375,    0.018276,    0.017175,    0.014859,           0,           0,           0,           0,           0,           0,           0,           0,           0,           0,           0,           0,           0,           0,           0,           0,           0,           0,           0,\n",
              "                  0,           0,           0,           0,           0,           0,           0,           0,           0,           0,           0,           0,           0,           0,           0,           0,           0,           0,           0,           0,           0,           0,           0,\n",
              "                  0,           0,           0,           0,           0,           0,           0,           0,           0,           0,           0]]), 'Confidence', 'F1'], [array([          0,    0.001001,    0.002002,    0.003003,    0.004004,    0.005005,    0.006006,    0.007007,    0.008008,    0.009009,     0.01001,    0.011011,    0.012012,    0.013013,    0.014014,    0.015015,    0.016016,    0.017017,    0.018018,    0.019019,     0.02002,    0.021021,    0.022022,    0.023023,\n",
              "          0.024024,    0.025025,    0.026026,    0.027027,    0.028028,    0.029029,     0.03003,    0.031031,    0.032032,    0.033033,    0.034034,    0.035035,    0.036036,    0.037037,    0.038038,    0.039039,     0.04004,    0.041041,    0.042042,    0.043043,    0.044044,    0.045045,    0.046046,    0.047047,\n",
              "          0.048048,    0.049049,     0.05005,    0.051051,    0.052052,    0.053053,    0.054054,    0.055055,    0.056056,    0.057057,    0.058058,    0.059059,     0.06006,    0.061061,    0.062062,    0.063063,    0.064064,    0.065065,    0.066066,    0.067067,    0.068068,    0.069069,     0.07007,    0.071071,\n",
              "          0.072072,    0.073073,    0.074074,    0.075075,    0.076076,    0.077077,    0.078078,    0.079079,     0.08008,    0.081081,    0.082082,    0.083083,    0.084084,    0.085085,    0.086086,    0.087087,    0.088088,    0.089089,     0.09009,    0.091091,    0.092092,    0.093093,    0.094094,    0.095095,\n",
              "          0.096096,    0.097097,    0.098098,    0.099099,      0.1001,      0.1011,      0.1021,      0.1031,      0.1041,     0.10511,     0.10611,     0.10711,     0.10811,     0.10911,     0.11011,     0.11111,     0.11211,     0.11311,     0.11411,     0.11512,     0.11612,     0.11712,     0.11812,     0.11912,\n",
              "           0.12012,     0.12112,     0.12212,     0.12312,     0.12412,     0.12513,     0.12613,     0.12713,     0.12813,     0.12913,     0.13013,     0.13113,     0.13213,     0.13313,     0.13413,     0.13514,     0.13614,     0.13714,     0.13814,     0.13914,     0.14014,     0.14114,     0.14214,     0.14314,\n",
              "           0.14414,     0.14515,     0.14615,     0.14715,     0.14815,     0.14915,     0.15015,     0.15115,     0.15215,     0.15315,     0.15415,     0.15516,     0.15616,     0.15716,     0.15816,     0.15916,     0.16016,     0.16116,     0.16216,     0.16316,     0.16416,     0.16517,     0.16617,     0.16717,\n",
              "           0.16817,     0.16917,     0.17017,     0.17117,     0.17217,     0.17317,     0.17417,     0.17518,     0.17618,     0.17718,     0.17818,     0.17918,     0.18018,     0.18118,     0.18218,     0.18318,     0.18418,     0.18519,     0.18619,     0.18719,     0.18819,     0.18919,     0.19019,     0.19119,\n",
              "           0.19219,     0.19319,     0.19419,      0.1952,      0.1962,      0.1972,      0.1982,      0.1992,      0.2002,      0.2012,      0.2022,      0.2032,      0.2042,     0.20521,     0.20621,     0.20721,     0.20821,     0.20921,     0.21021,     0.21121,     0.21221,     0.21321,     0.21421,     0.21522,\n",
              "           0.21622,     0.21722,     0.21822,     0.21922,     0.22022,     0.22122,     0.22222,     0.22322,     0.22422,     0.22523,     0.22623,     0.22723,     0.22823,     0.22923,     0.23023,     0.23123,     0.23223,     0.23323,     0.23423,     0.23524,     0.23624,     0.23724,     0.23824,     0.23924,\n",
              "           0.24024,     0.24124,     0.24224,     0.24324,     0.24424,     0.24525,     0.24625,     0.24725,     0.24825,     0.24925,     0.25025,     0.25125,     0.25225,     0.25325,     0.25425,     0.25526,     0.25626,     0.25726,     0.25826,     0.25926,     0.26026,     0.26126,     0.26226,     0.26326,\n",
              "           0.26426,     0.26527,     0.26627,     0.26727,     0.26827,     0.26927,     0.27027,     0.27127,     0.27227,     0.27327,     0.27427,     0.27528,     0.27628,     0.27728,     0.27828,     0.27928,     0.28028,     0.28128,     0.28228,     0.28328,     0.28428,     0.28529,     0.28629,     0.28729,\n",
              "           0.28829,     0.28929,     0.29029,     0.29129,     0.29229,     0.29329,     0.29429,      0.2953,      0.2963,      0.2973,      0.2983,      0.2993,      0.3003,      0.3013,      0.3023,      0.3033,      0.3043,     0.30531,     0.30631,     0.30731,     0.30831,     0.30931,     0.31031,     0.31131,\n",
              "           0.31231,     0.31331,     0.31431,     0.31532,     0.31632,     0.31732,     0.31832,     0.31932,     0.32032,     0.32132,     0.32232,     0.32332,     0.32432,     0.32533,     0.32633,     0.32733,     0.32833,     0.32933,     0.33033,     0.33133,     0.33233,     0.33333,     0.33433,     0.33534,\n",
              "           0.33634,     0.33734,     0.33834,     0.33934,     0.34034,     0.34134,     0.34234,     0.34334,     0.34434,     0.34535,     0.34635,     0.34735,     0.34835,     0.34935,     0.35035,     0.35135,     0.35235,     0.35335,     0.35435,     0.35536,     0.35636,     0.35736,     0.35836,     0.35936,\n",
              "           0.36036,     0.36136,     0.36236,     0.36336,     0.36436,     0.36537,     0.36637,     0.36737,     0.36837,     0.36937,     0.37037,     0.37137,     0.37237,     0.37337,     0.37437,     0.37538,     0.37638,     0.37738,     0.37838,     0.37938,     0.38038,     0.38138,     0.38238,     0.38338,\n",
              "           0.38438,     0.38539,     0.38639,     0.38739,     0.38839,     0.38939,     0.39039,     0.39139,     0.39239,     0.39339,     0.39439,      0.3954,      0.3964,      0.3974,      0.3984,      0.3994,      0.4004,      0.4014,      0.4024,      0.4034,      0.4044,     0.40541,     0.40641,     0.40741,\n",
              "           0.40841,     0.40941,     0.41041,     0.41141,     0.41241,     0.41341,     0.41441,     0.41542,     0.41642,     0.41742,     0.41842,     0.41942,     0.42042,     0.42142,     0.42242,     0.42342,     0.42442,     0.42543,     0.42643,     0.42743,     0.42843,     0.42943,     0.43043,     0.43143,\n",
              "           0.43243,     0.43343,     0.43443,     0.43544,     0.43644,     0.43744,     0.43844,     0.43944,     0.44044,     0.44144,     0.44244,     0.44344,     0.44444,     0.44545,     0.44645,     0.44745,     0.44845,     0.44945,     0.45045,     0.45145,     0.45245,     0.45345,     0.45445,     0.45546,\n",
              "           0.45646,     0.45746,     0.45846,     0.45946,     0.46046,     0.46146,     0.46246,     0.46346,     0.46446,     0.46547,     0.46647,     0.46747,     0.46847,     0.46947,     0.47047,     0.47147,     0.47247,     0.47347,     0.47447,     0.47548,     0.47648,     0.47748,     0.47848,     0.47948,\n",
              "           0.48048,     0.48148,     0.48248,     0.48348,     0.48448,     0.48549,     0.48649,     0.48749,     0.48849,     0.48949,     0.49049,     0.49149,     0.49249,     0.49349,     0.49449,      0.4955,      0.4965,      0.4975,      0.4985,      0.4995,      0.5005,      0.5015,      0.5025,      0.5035,\n",
              "            0.5045,     0.50551,     0.50651,     0.50751,     0.50851,     0.50951,     0.51051,     0.51151,     0.51251,     0.51351,     0.51451,     0.51552,     0.51652,     0.51752,     0.51852,     0.51952,     0.52052,     0.52152,     0.52252,     0.52352,     0.52452,     0.52553,     0.52653,     0.52753,\n",
              "           0.52853,     0.52953,     0.53053,     0.53153,     0.53253,     0.53353,     0.53453,     0.53554,     0.53654,     0.53754,     0.53854,     0.53954,     0.54054,     0.54154,     0.54254,     0.54354,     0.54454,     0.54555,     0.54655,     0.54755,     0.54855,     0.54955,     0.55055,     0.55155,\n",
              "           0.55255,     0.55355,     0.55455,     0.55556,     0.55656,     0.55756,     0.55856,     0.55956,     0.56056,     0.56156,     0.56256,     0.56356,     0.56456,     0.56557,     0.56657,     0.56757,     0.56857,     0.56957,     0.57057,     0.57157,     0.57257,     0.57357,     0.57457,     0.57558,\n",
              "           0.57658,     0.57758,     0.57858,     0.57958,     0.58058,     0.58158,     0.58258,     0.58358,     0.58458,     0.58559,     0.58659,     0.58759,     0.58859,     0.58959,     0.59059,     0.59159,     0.59259,     0.59359,     0.59459,      0.5956,      0.5966,      0.5976,      0.5986,      0.5996,\n",
              "            0.6006,      0.6016,      0.6026,      0.6036,      0.6046,     0.60561,     0.60661,     0.60761,     0.60861,     0.60961,     0.61061,     0.61161,     0.61261,     0.61361,     0.61461,     0.61562,     0.61662,     0.61762,     0.61862,     0.61962,     0.62062,     0.62162,     0.62262,     0.62362,\n",
              "           0.62462,     0.62563,     0.62663,     0.62763,     0.62863,     0.62963,     0.63063,     0.63163,     0.63263,     0.63363,     0.63463,     0.63564,     0.63664,     0.63764,     0.63864,     0.63964,     0.64064,     0.64164,     0.64264,     0.64364,     0.64464,     0.64565,     0.64665,     0.64765,\n",
              "           0.64865,     0.64965,     0.65065,     0.65165,     0.65265,     0.65365,     0.65465,     0.65566,     0.65666,     0.65766,     0.65866,     0.65966,     0.66066,     0.66166,     0.66266,     0.66366,     0.66466,     0.66567,     0.66667,     0.66767,     0.66867,     0.66967,     0.67067,     0.67167,\n",
              "           0.67267,     0.67367,     0.67467,     0.67568,     0.67668,     0.67768,     0.67868,     0.67968,     0.68068,     0.68168,     0.68268,     0.68368,     0.68468,     0.68569,     0.68669,     0.68769,     0.68869,     0.68969,     0.69069,     0.69169,     0.69269,     0.69369,     0.69469,      0.6957,\n",
              "            0.6967,      0.6977,      0.6987,      0.6997,      0.7007,      0.7017,      0.7027,      0.7037,      0.7047,     0.70571,     0.70671,     0.70771,     0.70871,     0.70971,     0.71071,     0.71171,     0.71271,     0.71371,     0.71471,     0.71572,     0.71672,     0.71772,     0.71872,     0.71972,\n",
              "           0.72072,     0.72172,     0.72272,     0.72372,     0.72472,     0.72573,     0.72673,     0.72773,     0.72873,     0.72973,     0.73073,     0.73173,     0.73273,     0.73373,     0.73473,     0.73574,     0.73674,     0.73774,     0.73874,     0.73974,     0.74074,     0.74174,     0.74274,     0.74374,\n",
              "           0.74474,     0.74575,     0.74675,     0.74775,     0.74875,     0.74975,     0.75075,     0.75175,     0.75275,     0.75375,     0.75475,     0.75576,     0.75676,     0.75776,     0.75876,     0.75976,     0.76076,     0.76176,     0.76276,     0.76376,     0.76476,     0.76577,     0.76677,     0.76777,\n",
              "           0.76877,     0.76977,     0.77077,     0.77177,     0.77277,     0.77377,     0.77477,     0.77578,     0.77678,     0.77778,     0.77878,     0.77978,     0.78078,     0.78178,     0.78278,     0.78378,     0.78478,     0.78579,     0.78679,     0.78779,     0.78879,     0.78979,     0.79079,     0.79179,\n",
              "           0.79279,     0.79379,     0.79479,      0.7958,      0.7968,      0.7978,      0.7988,      0.7998,      0.8008,      0.8018,      0.8028,      0.8038,      0.8048,     0.80581,     0.80681,     0.80781,     0.80881,     0.80981,     0.81081,     0.81181,     0.81281,     0.81381,     0.81481,     0.81582,\n",
              "           0.81682,     0.81782,     0.81882,     0.81982,     0.82082,     0.82182,     0.82282,     0.82382,     0.82482,     0.82583,     0.82683,     0.82783,     0.82883,     0.82983,     0.83083,     0.83183,     0.83283,     0.83383,     0.83483,     0.83584,     0.83684,     0.83784,     0.83884,     0.83984,\n",
              "           0.84084,     0.84184,     0.84284,     0.84384,     0.84484,     0.84585,     0.84685,     0.84785,     0.84885,     0.84985,     0.85085,     0.85185,     0.85285,     0.85385,     0.85485,     0.85586,     0.85686,     0.85786,     0.85886,     0.85986,     0.86086,     0.86186,     0.86286,     0.86386,\n",
              "           0.86486,     0.86587,     0.86687,     0.86787,     0.86887,     0.86987,     0.87087,     0.87187,     0.87287,     0.87387,     0.87487,     0.87588,     0.87688,     0.87788,     0.87888,     0.87988,     0.88088,     0.88188,     0.88288,     0.88388,     0.88488,     0.88589,     0.88689,     0.88789,\n",
              "           0.88889,     0.88989,     0.89089,     0.89189,     0.89289,     0.89389,     0.89489,      0.8959,      0.8969,      0.8979,      0.8989,      0.8999,      0.9009,      0.9019,      0.9029,      0.9039,      0.9049,     0.90591,     0.90691,     0.90791,     0.90891,     0.90991,     0.91091,     0.91191,\n",
              "           0.91291,     0.91391,     0.91491,     0.91592,     0.91692,     0.91792,     0.91892,     0.91992,     0.92092,     0.92192,     0.92292,     0.92392,     0.92492,     0.92593,     0.92693,     0.92793,     0.92893,     0.92993,     0.93093,     0.93193,     0.93293,     0.93393,     0.93493,     0.93594,\n",
              "           0.93694,     0.93794,     0.93894,     0.93994,     0.94094,     0.94194,     0.94294,     0.94394,     0.94494,     0.94595,     0.94695,     0.94795,     0.94895,     0.94995,     0.95095,     0.95195,     0.95295,     0.95395,     0.95495,     0.95596,     0.95696,     0.95796,     0.95896,     0.95996,\n",
              "           0.96096,     0.96196,     0.96296,     0.96396,     0.96496,     0.96597,     0.96697,     0.96797,     0.96897,     0.96997,     0.97097,     0.97197,     0.97297,     0.97397,     0.97497,     0.97598,     0.97698,     0.97798,     0.97898,     0.97998,     0.98098,     0.98198,     0.98298,     0.98398,\n",
              "           0.98498,     0.98599,     0.98699,     0.98799,     0.98899,     0.98999,     0.99099,     0.99199,     0.99299,     0.99399,     0.99499,       0.996,       0.997,       0.998,       0.999,           1]), array([[    0.19697,     0.19697,     0.29033,     0.35114,     0.39162,     0.41772,     0.44834,     0.47296,     0.48951,     0.50845,     0.51839,     0.53033,     0.54408,     0.55477,     0.56888,     0.57377,     0.58227,     0.58599,     0.58803,     0.59013,     0.59298,     0.59663,     0.60334,\n",
              "            0.61177,     0.61383,     0.61642,     0.62571,     0.63331,     0.63793,     0.63936,     0.64197,     0.64308,     0.64693,     0.65308,     0.65515,     0.65763,     0.66111,     0.66503,     0.66794,     0.66927,     0.67412,     0.67562,     0.67815,     0.68224,     0.68464,     0.68779,\n",
              "            0.69228,     0.69414,     0.69476,     0.69538,     0.69599,     0.69809,     0.69871,     0.69927,     0.69983,     0.70047,      0.7015,     0.70436,     0.70396,     0.70608,     0.70679,     0.70749,     0.70864,     0.71085,     0.71199,     0.71362,     0.71486,     0.71514,     0.71542,\n",
              "             0.7157,     0.71598,     0.71626,     0.71654,     0.71681,     0.71805,     0.72045,     0.72469,     0.72705,     0.72854,     0.73229,     0.73351,     0.73416,     0.73481,     0.73545,     0.73808,     0.73906,     0.74005,     0.74161,     0.74297,     0.74377,     0.74457,     0.74534,\n",
              "            0.74605,     0.74677,     0.74748,     0.74902,     0.75084,     0.75407,     0.75444,     0.75483,     0.75612,     0.75681,     0.75705,     0.75729,     0.75753,     0.75777,     0.75801,     0.75825,     0.75849,     0.75874,     0.75898,     0.75957,     0.76103,     0.76133,     0.76163,\n",
              "            0.76193,     0.76223,     0.76253,     0.76283,     0.76312,     0.76342,     0.76331,     0.76302,     0.76273,     0.76615,     0.76725,     0.77057,     0.77152,     0.77246,     0.77331,     0.77385,     0.77438,     0.77491,     0.77545,     0.77619,     0.77766,     0.77873,      0.7792,\n",
              "            0.77968,     0.78015,     0.78062,     0.78109,     0.78371,     0.78419,     0.78442,     0.78465,     0.78488,     0.78511,     0.78535,     0.78558,     0.78581,     0.78604,     0.78627,     0.78651,     0.78681,     0.78771,     0.78862,     0.78949,     0.78976,     0.79004,     0.79031,\n",
              "            0.79059,     0.79086,     0.79114,     0.79141,     0.79169,     0.79196,     0.79223,     0.79546,     0.79639,     0.79731,     0.79761,     0.79727,     0.79768,     0.79808,     0.79848,     0.79888,     0.79929,     0.79969,     0.79991,     0.79949,     0.79917,     0.79894,     0.79871,\n",
              "            0.79958,     0.80155,     0.80185,     0.80214,     0.80243,     0.80273,     0.80302,     0.80332,     0.80361,      0.8039,      0.8042,     0.80671,     0.80783,     0.80847,     0.80911,     0.80974,     0.81016,     0.80991,     0.80966,      0.8097,     0.81011,     0.81052,     0.81092,\n",
              "            0.81133,     0.81174,     0.81214,     0.81245,      0.8121,      0.8118,     0.81174,     0.81168,     0.81162,     0.81156,      0.8115,     0.81144,     0.81138,     0.81132,     0.81126,      0.8112,     0.81114,     0.81133,      0.8118,     0.81226,     0.81273,      0.8132,     0.81366,\n",
              "            0.81413,     0.81464,     0.81515,     0.81565,     0.81616,     0.81667,     0.81717,     0.81753,     0.81789,     0.81825,     0.81861,     0.81897,     0.81933,     0.81968,     0.82004,     0.82044,     0.82089,     0.82133,     0.82177,     0.82222,     0.82266,     0.82311,     0.82338,\n",
              "            0.82352,     0.82365,     0.82379,     0.82392,     0.82406,     0.82419,     0.82433,     0.82447,      0.8246,     0.82474,     0.82487,     0.82501,     0.82514,     0.82528,     0.82541,     0.82555,     0.82569,     0.82582,     0.82596,     0.82609,     0.82623,     0.82636,     0.82662,\n",
              "            0.82695,     0.82728,     0.82761,     0.82793,     0.82826,     0.82859,     0.82892,     0.82925,     0.82954,     0.82945,     0.82937,     0.82928,     0.82919,     0.82911,     0.82902,     0.82894,     0.82978,      0.8314,     0.83202,     0.83195,     0.83189,     0.83182,     0.83175,\n",
              "            0.83168,     0.83162,     0.83155,     0.83148,     0.83146,     0.83201,     0.83255,      0.8331,     0.83365,     0.83419,     0.83454,     0.83421,     0.83581,     0.83719,     0.83716,     0.83713,      0.8371,     0.83707,     0.83704,     0.83702,     0.83699,     0.83696,     0.83693,\n",
              "             0.8369,     0.83687,     0.83684,     0.83682,     0.83679,     0.83676,     0.83673,      0.8367,     0.83667,     0.83664,     0.83662,     0.83659,     0.83681,      0.8372,      0.8376,     0.83799,     0.83839,     0.83878,     0.83917,     0.83957,     0.83991,     0.84011,     0.84032,\n",
              "            0.84053,     0.84074,     0.84095,     0.84115,     0.84136,     0.84157,     0.84178,     0.84198,     0.84219,      0.8424,     0.84261,     0.84281,     0.84302,     0.84313,      0.8431,     0.84308,     0.84306,     0.84304,     0.84301,     0.84299,     0.84297,     0.84294,     0.84292,\n",
              "             0.8429,     0.84288,     0.84285,     0.84283,     0.84281,     0.84278,     0.84276,     0.84274,     0.84272,     0.84269,     0.84267,     0.84265,     0.84263,      0.8426,     0.84258,     0.84256,     0.84253,     0.84263,     0.84459,     0.84482,     0.84475,     0.84494,     0.84513,\n",
              "            0.84532,     0.84551,      0.8457,     0.84589,     0.84608,     0.84627,     0.84646,     0.84665,     0.84684,     0.84703,     0.84722,     0.84741,      0.8476,     0.84779,     0.84798,      0.8479,     0.84779,     0.84769,     0.84758,     0.84747,     0.84737,     0.84731,     0.84724,\n",
              "            0.84718,     0.84711,     0.84705,     0.84698,     0.84692,     0.84685,     0.84679,     0.84734,     0.84808,     0.84882,     0.84956,     0.85367,     0.85377,     0.85386,     0.85396,     0.85405,     0.85415,     0.85424,     0.85434,     0.85443,     0.85453,     0.85462,     0.85472,\n",
              "            0.85481,     0.85491,       0.855,      0.8551,     0.85519,     0.85529,     0.85539,     0.85548,     0.85558,     0.85567,     0.85577,     0.85586,     0.85596,     0.85605,     0.85615,     0.85624,     0.85634,     0.85643,     0.85653,     0.85662,     0.85672,     0.85681,     0.85691,\n",
              "              0.857,      0.8571,      0.8565,      0.8564,      0.8563,      0.8562,      0.8561,       0.856,      0.8562,     0.85653,     0.85686,     0.85718,     0.85751,     0.85784,     0.85817,      0.8585,     0.85883,     0.85916,     0.85949,     0.85941,     0.85931,     0.85921,     0.85911,\n",
              "            0.85901,     0.85891,     0.85881,     0.85871,     0.85861,     0.85851,     0.85841,     0.85928,     0.86218,     0.86311,     0.86404,     0.86497,     0.86625,     0.86813,     0.86896,     0.86921,     0.87048,     0.87174,     0.87232,     0.87227,     0.87222,     0.87218,     0.87213,\n",
              "            0.87208,     0.87204,     0.87199,     0.87194,      0.8719,     0.87185,      0.8718,     0.87173,     0.87165,     0.87157,     0.87149,     0.87141,     0.87133,     0.87125,     0.87188,     0.87252,     0.87316,      0.8738,     0.87444,     0.87444,      0.8743,     0.87416,     0.87402,\n",
              "            0.87398,     0.87428,     0.87458,     0.87489,     0.87519,     0.87549,     0.87579,     0.87609,     0.87639,     0.87669,     0.87699,     0.87729,     0.87759,     0.87767,     0.87756,     0.87745,     0.87734,     0.87723,     0.87716,      0.8771,     0.87705,       0.877,     0.87695,\n",
              "            0.87689,     0.87684,     0.87679,     0.87673,     0.87668,     0.87661,     0.87652,     0.87643,     0.87633,     0.87624,     0.87615,     0.87609,     0.87606,     0.87604,     0.87601,     0.87599,     0.87596,     0.87593,     0.87591,     0.87588,     0.87585,     0.87583,      0.8758,\n",
              "            0.87578,     0.87575,     0.87572,      0.8757,     0.87567,     0.87564,     0.87562,     0.87559,     0.87557,     0.87549,     0.87537,     0.87526,     0.87515,     0.87503,      0.8779,     0.87851,     0.87831,     0.87822,     0.87814,     0.87805,     0.87796,     0.87788,     0.87781,\n",
              "            0.87776,     0.87772,     0.87767,     0.87763,     0.87758,     0.87754,     0.87749,     0.87744,      0.8774,     0.87735,     0.87731,     0.87714,     0.87698,     0.87801,     0.87904,     0.88007,     0.88069,     0.88056,     0.88044,     0.88031,     0.88019,     0.88016,     0.88014,\n",
              "            0.88012,     0.88009,     0.88007,     0.88005,     0.88002,        0.88,     0.87998,     0.87995,     0.87993,     0.87991,     0.87988,     0.87986,     0.87984,     0.87981,     0.87979,     0.87977,     0.87974,     0.87972,      0.8797,     0.87967,     0.87965,      0.8799,     0.88371,\n",
              "            0.88362,     0.88353,     0.88343,     0.88334,     0.88325,     0.88305,     0.88248,     0.88201,     0.88178,     0.88155,     0.88135,     0.88116,     0.88097,     0.88492,     0.88509,     0.88501,     0.88493,     0.88485,     0.88477,     0.88469,     0.88455,     0.88403,      0.8838,\n",
              "            0.88356,     0.88343,     0.88333,     0.88323,     0.88314,     0.88304,     0.88294,     0.88268,     0.88238,       0.882,      0.8817,     0.88153,     0.88136,     0.88119,     0.88159,     0.88198,     0.88237,     0.88276,     0.88315,     0.88354,     0.88393,     0.88432,     0.88471,\n",
              "             0.8851,     0.88549,     0.88469,     0.88438,     0.88426,     0.88414,     0.88402,      0.8839,      0.8843,     0.88533,     0.88635,     0.88737,     0.88775,     0.88766,     0.88757,     0.88748,     0.88739,      0.8873,      0.8872,     0.88712,     0.88704,     0.88696,     0.88688,\n",
              "             0.8868,     0.88672,     0.88665,     0.89015,     0.88951,      0.8891,     0.88947,     0.89068,     0.89189,     0.89311,     0.89328,     0.89269,     0.89239,     0.89226,     0.89213,     0.89199,     0.89668,     0.89645,     0.89622,     0.89542,     0.89463,     0.89434,     0.89422,\n",
              "             0.8941,     0.89398,     0.89386,     0.89476,      0.8957,     0.89663,     0.89757,     0.89851,     0.89768,     0.89728,     0.89698,     0.89674,     0.89646,     0.89606,     0.89472,     0.89465,     0.89458,     0.89451,     0.89444,     0.89437,      0.8943,     0.89422,     0.89415,\n",
              "            0.89524,     0.89818,     0.89746,      0.8972,     0.89738,      0.9018,     0.90172,     0.90165,     0.90158,      0.9015,     0.90143,     0.90136,     0.90128,     0.90243,     0.90625,     0.90658,     0.90628,     0.91161,     0.91135,     0.91124,     0.91114,     0.91103,     0.91093,\n",
              "            0.91082,     0.91069,     0.91056,     0.91043,      0.9103,       0.911,     0.91209,     0.91319,     0.91428,     0.91538,     0.91609,     0.91595,     0.91581,     0.91567,     0.91512,     0.91731,     0.91978,     0.92079,     0.91944,      0.9188,     0.91857,     0.91713,     0.91659,\n",
              "            0.91647,     0.91636,     0.91624,     0.91612,     0.91586,     0.91556,     0.92126,     0.92068,     0.91989,     0.92569,      0.9254,     0.92503,     0.92464,     0.92425,     0.92291,     0.92273,     0.92256,     0.92659,     0.92956,     0.92933,     0.93021,     0.93633,     0.94298,\n",
              "            0.94282,     0.94266,      0.9464,     0.94933,      0.9488,     0.94834,     0.94788,       0.947,     0.94661,     0.94632,     0.94607,     0.94546,     0.94426,     0.94391,     0.94364,     0.94512,     0.95231,     0.95219,     0.95208,     0.95196,     0.95125,     0.95037,      0.9494,\n",
              "            0.94905,      0.9578,     0.95749,     0.95617,     0.95536,     0.95463,     0.95405,     0.95368,     0.95322,     0.95689,     0.96381,     0.96293,     0.96241,     0.96098,     0.96049,     0.96022,     0.95979,     0.95926,     0.95897,     0.95881,     0.95868,     0.95855,     0.95842,\n",
              "            0.95819,     0.95779,     0.95738,     0.95659,     0.98426,     0.98454,     0.98437,      0.9841,     0.98274,     0.98254,     0.98076,     0.98065,     0.98054,     0.98042,     0.98025,     0.98005,     0.97936,     0.97908,     0.97896,     0.97885,     0.97874,     0.97856,     0.97837,\n",
              "            0.98799,           1,           1,           1,           1,           1,           1,           1,           1,           1,           1,           1,           1,           1,           1,           1,           1,           1,           1,           1,           1,           1,           1,\n",
              "                  1,           1,           1,           1,           1,           1,           1,           1,           1,           1,           1,           1,           1,           1,           1,           1,           1,           1,           1,           1,           1,           1,           1,\n",
              "                  1,           1,           1,           1,           1,           1,           1,           1,           1,           1,           1,           1,           1,           1,           1,           1,           1,           1,           1,           1,           1,           1,           1,\n",
              "                  1,           1,           1,           1,           1,           1,           1,           1,           1,           1,           1,           1,           1,           1,           1,           1,           1,           1,           1,           1,           1,           1,           1,\n",
              "                  1,           1,           1,           1,           1,           1,           1,           1,           1,           1,           1]]), 'Confidence', 'Precision'], [array([          0,    0.001001,    0.002002,    0.003003,    0.004004,    0.005005,    0.006006,    0.007007,    0.008008,    0.009009,     0.01001,    0.011011,    0.012012,    0.013013,    0.014014,    0.015015,    0.016016,    0.017017,    0.018018,    0.019019,     0.02002,    0.021021,    0.022022,    0.023023,\n",
              "          0.024024,    0.025025,    0.026026,    0.027027,    0.028028,    0.029029,     0.03003,    0.031031,    0.032032,    0.033033,    0.034034,    0.035035,    0.036036,    0.037037,    0.038038,    0.039039,     0.04004,    0.041041,    0.042042,    0.043043,    0.044044,    0.045045,    0.046046,    0.047047,\n",
              "          0.048048,    0.049049,     0.05005,    0.051051,    0.052052,    0.053053,    0.054054,    0.055055,    0.056056,    0.057057,    0.058058,    0.059059,     0.06006,    0.061061,    0.062062,    0.063063,    0.064064,    0.065065,    0.066066,    0.067067,    0.068068,    0.069069,     0.07007,    0.071071,\n",
              "          0.072072,    0.073073,    0.074074,    0.075075,    0.076076,    0.077077,    0.078078,    0.079079,     0.08008,    0.081081,    0.082082,    0.083083,    0.084084,    0.085085,    0.086086,    0.087087,    0.088088,    0.089089,     0.09009,    0.091091,    0.092092,    0.093093,    0.094094,    0.095095,\n",
              "          0.096096,    0.097097,    0.098098,    0.099099,      0.1001,      0.1011,      0.1021,      0.1031,      0.1041,     0.10511,     0.10611,     0.10711,     0.10811,     0.10911,     0.11011,     0.11111,     0.11211,     0.11311,     0.11411,     0.11512,     0.11612,     0.11712,     0.11812,     0.11912,\n",
              "           0.12012,     0.12112,     0.12212,     0.12312,     0.12412,     0.12513,     0.12613,     0.12713,     0.12813,     0.12913,     0.13013,     0.13113,     0.13213,     0.13313,     0.13413,     0.13514,     0.13614,     0.13714,     0.13814,     0.13914,     0.14014,     0.14114,     0.14214,     0.14314,\n",
              "           0.14414,     0.14515,     0.14615,     0.14715,     0.14815,     0.14915,     0.15015,     0.15115,     0.15215,     0.15315,     0.15415,     0.15516,     0.15616,     0.15716,     0.15816,     0.15916,     0.16016,     0.16116,     0.16216,     0.16316,     0.16416,     0.16517,     0.16617,     0.16717,\n",
              "           0.16817,     0.16917,     0.17017,     0.17117,     0.17217,     0.17317,     0.17417,     0.17518,     0.17618,     0.17718,     0.17818,     0.17918,     0.18018,     0.18118,     0.18218,     0.18318,     0.18418,     0.18519,     0.18619,     0.18719,     0.18819,     0.18919,     0.19019,     0.19119,\n",
              "           0.19219,     0.19319,     0.19419,      0.1952,      0.1962,      0.1972,      0.1982,      0.1992,      0.2002,      0.2012,      0.2022,      0.2032,      0.2042,     0.20521,     0.20621,     0.20721,     0.20821,     0.20921,     0.21021,     0.21121,     0.21221,     0.21321,     0.21421,     0.21522,\n",
              "           0.21622,     0.21722,     0.21822,     0.21922,     0.22022,     0.22122,     0.22222,     0.22322,     0.22422,     0.22523,     0.22623,     0.22723,     0.22823,     0.22923,     0.23023,     0.23123,     0.23223,     0.23323,     0.23423,     0.23524,     0.23624,     0.23724,     0.23824,     0.23924,\n",
              "           0.24024,     0.24124,     0.24224,     0.24324,     0.24424,     0.24525,     0.24625,     0.24725,     0.24825,     0.24925,     0.25025,     0.25125,     0.25225,     0.25325,     0.25425,     0.25526,     0.25626,     0.25726,     0.25826,     0.25926,     0.26026,     0.26126,     0.26226,     0.26326,\n",
              "           0.26426,     0.26527,     0.26627,     0.26727,     0.26827,     0.26927,     0.27027,     0.27127,     0.27227,     0.27327,     0.27427,     0.27528,     0.27628,     0.27728,     0.27828,     0.27928,     0.28028,     0.28128,     0.28228,     0.28328,     0.28428,     0.28529,     0.28629,     0.28729,\n",
              "           0.28829,     0.28929,     0.29029,     0.29129,     0.29229,     0.29329,     0.29429,      0.2953,      0.2963,      0.2973,      0.2983,      0.2993,      0.3003,      0.3013,      0.3023,      0.3033,      0.3043,     0.30531,     0.30631,     0.30731,     0.30831,     0.30931,     0.31031,     0.31131,\n",
              "           0.31231,     0.31331,     0.31431,     0.31532,     0.31632,     0.31732,     0.31832,     0.31932,     0.32032,     0.32132,     0.32232,     0.32332,     0.32432,     0.32533,     0.32633,     0.32733,     0.32833,     0.32933,     0.33033,     0.33133,     0.33233,     0.33333,     0.33433,     0.33534,\n",
              "           0.33634,     0.33734,     0.33834,     0.33934,     0.34034,     0.34134,     0.34234,     0.34334,     0.34434,     0.34535,     0.34635,     0.34735,     0.34835,     0.34935,     0.35035,     0.35135,     0.35235,     0.35335,     0.35435,     0.35536,     0.35636,     0.35736,     0.35836,     0.35936,\n",
              "           0.36036,     0.36136,     0.36236,     0.36336,     0.36436,     0.36537,     0.36637,     0.36737,     0.36837,     0.36937,     0.37037,     0.37137,     0.37237,     0.37337,     0.37437,     0.37538,     0.37638,     0.37738,     0.37838,     0.37938,     0.38038,     0.38138,     0.38238,     0.38338,\n",
              "           0.38438,     0.38539,     0.38639,     0.38739,     0.38839,     0.38939,     0.39039,     0.39139,     0.39239,     0.39339,     0.39439,      0.3954,      0.3964,      0.3974,      0.3984,      0.3994,      0.4004,      0.4014,      0.4024,      0.4034,      0.4044,     0.40541,     0.40641,     0.40741,\n",
              "           0.40841,     0.40941,     0.41041,     0.41141,     0.41241,     0.41341,     0.41441,     0.41542,     0.41642,     0.41742,     0.41842,     0.41942,     0.42042,     0.42142,     0.42242,     0.42342,     0.42442,     0.42543,     0.42643,     0.42743,     0.42843,     0.42943,     0.43043,     0.43143,\n",
              "           0.43243,     0.43343,     0.43443,     0.43544,     0.43644,     0.43744,     0.43844,     0.43944,     0.44044,     0.44144,     0.44244,     0.44344,     0.44444,     0.44545,     0.44645,     0.44745,     0.44845,     0.44945,     0.45045,     0.45145,     0.45245,     0.45345,     0.45445,     0.45546,\n",
              "           0.45646,     0.45746,     0.45846,     0.45946,     0.46046,     0.46146,     0.46246,     0.46346,     0.46446,     0.46547,     0.46647,     0.46747,     0.46847,     0.46947,     0.47047,     0.47147,     0.47247,     0.47347,     0.47447,     0.47548,     0.47648,     0.47748,     0.47848,     0.47948,\n",
              "           0.48048,     0.48148,     0.48248,     0.48348,     0.48448,     0.48549,     0.48649,     0.48749,     0.48849,     0.48949,     0.49049,     0.49149,     0.49249,     0.49349,     0.49449,      0.4955,      0.4965,      0.4975,      0.4985,      0.4995,      0.5005,      0.5015,      0.5025,      0.5035,\n",
              "            0.5045,     0.50551,     0.50651,     0.50751,     0.50851,     0.50951,     0.51051,     0.51151,     0.51251,     0.51351,     0.51451,     0.51552,     0.51652,     0.51752,     0.51852,     0.51952,     0.52052,     0.52152,     0.52252,     0.52352,     0.52452,     0.52553,     0.52653,     0.52753,\n",
              "           0.52853,     0.52953,     0.53053,     0.53153,     0.53253,     0.53353,     0.53453,     0.53554,     0.53654,     0.53754,     0.53854,     0.53954,     0.54054,     0.54154,     0.54254,     0.54354,     0.54454,     0.54555,     0.54655,     0.54755,     0.54855,     0.54955,     0.55055,     0.55155,\n",
              "           0.55255,     0.55355,     0.55455,     0.55556,     0.55656,     0.55756,     0.55856,     0.55956,     0.56056,     0.56156,     0.56256,     0.56356,     0.56456,     0.56557,     0.56657,     0.56757,     0.56857,     0.56957,     0.57057,     0.57157,     0.57257,     0.57357,     0.57457,     0.57558,\n",
              "           0.57658,     0.57758,     0.57858,     0.57958,     0.58058,     0.58158,     0.58258,     0.58358,     0.58458,     0.58559,     0.58659,     0.58759,     0.58859,     0.58959,     0.59059,     0.59159,     0.59259,     0.59359,     0.59459,      0.5956,      0.5966,      0.5976,      0.5986,      0.5996,\n",
              "            0.6006,      0.6016,      0.6026,      0.6036,      0.6046,     0.60561,     0.60661,     0.60761,     0.60861,     0.60961,     0.61061,     0.61161,     0.61261,     0.61361,     0.61461,     0.61562,     0.61662,     0.61762,     0.61862,     0.61962,     0.62062,     0.62162,     0.62262,     0.62362,\n",
              "           0.62462,     0.62563,     0.62663,     0.62763,     0.62863,     0.62963,     0.63063,     0.63163,     0.63263,     0.63363,     0.63463,     0.63564,     0.63664,     0.63764,     0.63864,     0.63964,     0.64064,     0.64164,     0.64264,     0.64364,     0.64464,     0.64565,     0.64665,     0.64765,\n",
              "           0.64865,     0.64965,     0.65065,     0.65165,     0.65265,     0.65365,     0.65465,     0.65566,     0.65666,     0.65766,     0.65866,     0.65966,     0.66066,     0.66166,     0.66266,     0.66366,     0.66466,     0.66567,     0.66667,     0.66767,     0.66867,     0.66967,     0.67067,     0.67167,\n",
              "           0.67267,     0.67367,     0.67467,     0.67568,     0.67668,     0.67768,     0.67868,     0.67968,     0.68068,     0.68168,     0.68268,     0.68368,     0.68468,     0.68569,     0.68669,     0.68769,     0.68869,     0.68969,     0.69069,     0.69169,     0.69269,     0.69369,     0.69469,      0.6957,\n",
              "            0.6967,      0.6977,      0.6987,      0.6997,      0.7007,      0.7017,      0.7027,      0.7037,      0.7047,     0.70571,     0.70671,     0.70771,     0.70871,     0.70971,     0.71071,     0.71171,     0.71271,     0.71371,     0.71471,     0.71572,     0.71672,     0.71772,     0.71872,     0.71972,\n",
              "           0.72072,     0.72172,     0.72272,     0.72372,     0.72472,     0.72573,     0.72673,     0.72773,     0.72873,     0.72973,     0.73073,     0.73173,     0.73273,     0.73373,     0.73473,     0.73574,     0.73674,     0.73774,     0.73874,     0.73974,     0.74074,     0.74174,     0.74274,     0.74374,\n",
              "           0.74474,     0.74575,     0.74675,     0.74775,     0.74875,     0.74975,     0.75075,     0.75175,     0.75275,     0.75375,     0.75475,     0.75576,     0.75676,     0.75776,     0.75876,     0.75976,     0.76076,     0.76176,     0.76276,     0.76376,     0.76476,     0.76577,     0.76677,     0.76777,\n",
              "           0.76877,     0.76977,     0.77077,     0.77177,     0.77277,     0.77377,     0.77477,     0.77578,     0.77678,     0.77778,     0.77878,     0.77978,     0.78078,     0.78178,     0.78278,     0.78378,     0.78478,     0.78579,     0.78679,     0.78779,     0.78879,     0.78979,     0.79079,     0.79179,\n",
              "           0.79279,     0.79379,     0.79479,      0.7958,      0.7968,      0.7978,      0.7988,      0.7998,      0.8008,      0.8018,      0.8028,      0.8038,      0.8048,     0.80581,     0.80681,     0.80781,     0.80881,     0.80981,     0.81081,     0.81181,     0.81281,     0.81381,     0.81481,     0.81582,\n",
              "           0.81682,     0.81782,     0.81882,     0.81982,     0.82082,     0.82182,     0.82282,     0.82382,     0.82482,     0.82583,     0.82683,     0.82783,     0.82883,     0.82983,     0.83083,     0.83183,     0.83283,     0.83383,     0.83483,     0.83584,     0.83684,     0.83784,     0.83884,     0.83984,\n",
              "           0.84084,     0.84184,     0.84284,     0.84384,     0.84484,     0.84585,     0.84685,     0.84785,     0.84885,     0.84985,     0.85085,     0.85185,     0.85285,     0.85385,     0.85485,     0.85586,     0.85686,     0.85786,     0.85886,     0.85986,     0.86086,     0.86186,     0.86286,     0.86386,\n",
              "           0.86486,     0.86587,     0.86687,     0.86787,     0.86887,     0.86987,     0.87087,     0.87187,     0.87287,     0.87387,     0.87487,     0.87588,     0.87688,     0.87788,     0.87888,     0.87988,     0.88088,     0.88188,     0.88288,     0.88388,     0.88488,     0.88589,     0.88689,     0.88789,\n",
              "           0.88889,     0.88989,     0.89089,     0.89189,     0.89289,     0.89389,     0.89489,      0.8959,      0.8969,      0.8979,      0.8989,      0.8999,      0.9009,      0.9019,      0.9029,      0.9039,      0.9049,     0.90591,     0.90691,     0.90791,     0.90891,     0.90991,     0.91091,     0.91191,\n",
              "           0.91291,     0.91391,     0.91491,     0.91592,     0.91692,     0.91792,     0.91892,     0.91992,     0.92092,     0.92192,     0.92292,     0.92392,     0.92492,     0.92593,     0.92693,     0.92793,     0.92893,     0.92993,     0.93093,     0.93193,     0.93293,     0.93393,     0.93493,     0.93594,\n",
              "           0.93694,     0.93794,     0.93894,     0.93994,     0.94094,     0.94194,     0.94294,     0.94394,     0.94494,     0.94595,     0.94695,     0.94795,     0.94895,     0.94995,     0.95095,     0.95195,     0.95295,     0.95395,     0.95495,     0.95596,     0.95696,     0.95796,     0.95896,     0.95996,\n",
              "           0.96096,     0.96196,     0.96296,     0.96396,     0.96496,     0.96597,     0.96697,     0.96797,     0.96897,     0.96997,     0.97097,     0.97197,     0.97297,     0.97397,     0.97497,     0.97598,     0.97698,     0.97798,     0.97898,     0.97998,     0.98098,     0.98198,     0.98298,     0.98398,\n",
              "           0.98498,     0.98599,     0.98699,     0.98799,     0.98899,     0.98999,     0.99099,     0.99199,     0.99299,     0.99399,     0.99499,       0.996,       0.997,       0.998,       0.999,           1]), array([[    0.95902,     0.95902,     0.95492,     0.95492,     0.95082,     0.95082,     0.95082,     0.95082,     0.95082,     0.95082,     0.95082,     0.95082,     0.95082,     0.95082,     0.95082,     0.95082,     0.95082,     0.95082,     0.95082,     0.95082,     0.95082,     0.95082,     0.95082,\n",
              "            0.94937,     0.94672,     0.94672,     0.94672,     0.94672,     0.94672,     0.94672,     0.94672,     0.94672,     0.94262,     0.94262,     0.93852,     0.93852,     0.93852,     0.93852,     0.93852,     0.93852,     0.93852,     0.93852,     0.93852,     0.93852,     0.93852,     0.93852,\n",
              "            0.93852,     0.93852,     0.93852,     0.93852,     0.93852,     0.93852,     0.93852,     0.93852,     0.93852,     0.93852,     0.93852,     0.93852,     0.93557,     0.93443,     0.93443,     0.93443,     0.93443,     0.93443,     0.93443,     0.93443,     0.93443,     0.93443,     0.93443,\n",
              "            0.93443,     0.93443,     0.93443,     0.93443,     0.93443,     0.93443,     0.93443,     0.93443,     0.93443,     0.93443,     0.93443,     0.93443,     0.93443,     0.93443,     0.93443,     0.93443,     0.93443,     0.93443,     0.93443,     0.93443,     0.93443,     0.93443,     0.93443,\n",
              "            0.93443,     0.93443,     0.93443,     0.93443,     0.93443,     0.93443,     0.93177,     0.93033,     0.93033,     0.93033,     0.93033,     0.93033,     0.93033,     0.93033,     0.93033,     0.93033,     0.93033,     0.93033,     0.93033,     0.93033,     0.92623,     0.92623,     0.92623,\n",
              "            0.92623,     0.92623,     0.92623,     0.92623,     0.92623,     0.92623,     0.92519,     0.92369,      0.9222,     0.92213,     0.92213,     0.92213,     0.92213,     0.92213,     0.92213,     0.92213,     0.92213,     0.92213,     0.92213,     0.92213,     0.92213,     0.92213,     0.92213,\n",
              "            0.92213,     0.92213,     0.92213,     0.92213,     0.92213,     0.92213,     0.92213,     0.92213,     0.92213,     0.92213,     0.92213,     0.92213,     0.92213,     0.92213,     0.92213,     0.92213,     0.92213,     0.92213,     0.92213,     0.92213,     0.92213,     0.92213,     0.92213,\n",
              "            0.92213,     0.92213,     0.92213,     0.92213,     0.92213,     0.92213,     0.92213,     0.92213,     0.92213,     0.92213,     0.92066,     0.91803,     0.91803,     0.91803,     0.91803,     0.91803,     0.91803,     0.91803,      0.9175,     0.91509,     0.91327,     0.91197,     0.91068,\n",
              "            0.90984,     0.90984,     0.90984,     0.90984,     0.90984,     0.90984,     0.90984,     0.90984,     0.90984,     0.90984,     0.90984,     0.90984,     0.90984,     0.90984,     0.90984,     0.90984,     0.90947,     0.90801,     0.90655,     0.90574,     0.90574,     0.90574,     0.90574,\n",
              "            0.90574,     0.90574,     0.90574,     0.90547,     0.90337,     0.90158,     0.90123,     0.90088,     0.90053,     0.90018,     0.89983,     0.89948,     0.89913,     0.89878,     0.89843,     0.89808,     0.89773,     0.89754,     0.89754,     0.89754,     0.89754,     0.89754,     0.89754,\n",
              "            0.89754,     0.89754,     0.89754,     0.89754,     0.89754,     0.89754,     0.89754,     0.89754,     0.89754,     0.89754,     0.89754,     0.89754,     0.89754,     0.89754,     0.89754,     0.89754,     0.89754,     0.89754,     0.89754,     0.89754,     0.89754,     0.89754,     0.89754,\n",
              "            0.89754,     0.89754,     0.89754,     0.89754,     0.89754,     0.89754,     0.89754,     0.89754,     0.89754,     0.89754,     0.89754,     0.89754,     0.89754,     0.89754,     0.89754,     0.89754,     0.89754,     0.89754,     0.89754,     0.89754,     0.89754,     0.89754,     0.89754,\n",
              "            0.89754,     0.89754,     0.89754,     0.89754,     0.89754,     0.89754,     0.89754,     0.89754,     0.89748,     0.89694,      0.8964,     0.89586,     0.89532,     0.89477,     0.89423,     0.89369,     0.89344,     0.89344,     0.89319,     0.89276,     0.89233,     0.89189,     0.89146,\n",
              "            0.89103,      0.8906,     0.89017,     0.88974,     0.88934,     0.88934,     0.88934,     0.88934,     0.88934,     0.88934,     0.88887,     0.88677,     0.88525,      0.8851,     0.88492,     0.88473,     0.88455,     0.88436,     0.88418,     0.88399,     0.88381,     0.88362,     0.88344,\n",
              "            0.88325,     0.88307,     0.88288,      0.8827,     0.88252,     0.88233,     0.88215,     0.88196,     0.88178,     0.88159,     0.88141,     0.88122,     0.88115,     0.88115,     0.88115,     0.88115,     0.88115,     0.88115,     0.88115,     0.88115,     0.88115,     0.88115,     0.88115,\n",
              "            0.88115,     0.88115,     0.88115,     0.88115,     0.88115,     0.88115,     0.88115,     0.88115,     0.88115,     0.88115,     0.88115,     0.88115,     0.88115,     0.88108,     0.88093,     0.88078,     0.88063,     0.88047,     0.88032,     0.88017,     0.88002,     0.87987,     0.87972,\n",
              "            0.87957,     0.87941,     0.87926,     0.87911,     0.87896,     0.87881,     0.87866,     0.87851,     0.87835,      0.8782,     0.87805,      0.8779,     0.87775,      0.8776,     0.87745,      0.8773,     0.87714,     0.87295,     0.87295,     0.87014,     0.86885,     0.86885,     0.86885,\n",
              "            0.86885,     0.86885,     0.86885,     0.86885,     0.86885,     0.86885,     0.86885,     0.86885,     0.86885,     0.86885,     0.86885,     0.86885,     0.86885,     0.86885,     0.86885,      0.8682,     0.86747,     0.86674,     0.86601,     0.86528,     0.86463,      0.8642,     0.86377,\n",
              "            0.86334,     0.86291,     0.86248,     0.86205,     0.86162,     0.86119,     0.86076,     0.86066,     0.86066,     0.86066,     0.86066,     0.86066,     0.86066,     0.86066,     0.86066,     0.86066,     0.86066,     0.86066,     0.86066,     0.86066,     0.86066,     0.86066,     0.86066,\n",
              "            0.86066,     0.86066,     0.86066,     0.86066,     0.86066,     0.86066,     0.86066,     0.86066,     0.86066,     0.86066,     0.86066,     0.86066,     0.86066,     0.86066,     0.86066,     0.86066,     0.86066,     0.86066,     0.86066,     0.86066,     0.86066,     0.86066,     0.86066,\n",
              "            0.86066,     0.86066,     0.85617,     0.85547,     0.85477,     0.85407,     0.85337,     0.85267,     0.85246,     0.85246,     0.85246,     0.85246,     0.85246,     0.85246,     0.85246,     0.85246,     0.85246,     0.85246,     0.85246,     0.85178,     0.85108,     0.85038,     0.84968,\n",
              "            0.84898,     0.84828,     0.84758,     0.84688,     0.84618,     0.84548,     0.84478,     0.84426,     0.84426,     0.84426,     0.84426,     0.84426,     0.84426,     0.84426,     0.84247,     0.84016,     0.84016,     0.84016,     0.83998,     0.83963,     0.83928,     0.83893,     0.83858,\n",
              "            0.83823,     0.83788,     0.83753,     0.83718,     0.83683,     0.83648,     0.83613,     0.83558,     0.83497,     0.83437,     0.83377,     0.83317,     0.83257,     0.83197,     0.83197,     0.83197,     0.83197,     0.83197,     0.83197,     0.82773,     0.82668,     0.82563,     0.82458,\n",
              "            0.82377,     0.82377,     0.82377,     0.82377,     0.82377,     0.82377,     0.82377,     0.82377,     0.82377,     0.82377,     0.82377,     0.82377,     0.82377,     0.82331,     0.82247,     0.82163,     0.82079,     0.81995,      0.8194,       0.819,      0.8186,      0.8182,      0.8178,\n",
              "             0.8174,       0.817,      0.8166,      0.8162,      0.8158,     0.81527,     0.81457,     0.81387,     0.81317,     0.81247,     0.81177,     0.81136,     0.81117,     0.81097,     0.81078,     0.81058,     0.81039,     0.81019,        0.81,      0.8098,      0.8096,     0.80941,     0.80921,\n",
              "            0.80902,     0.80882,     0.80863,     0.80843,     0.80824,     0.80804,     0.80785,     0.80765,     0.80746,     0.80687,     0.80603,     0.80519,     0.80435,     0.80351,     0.80328,     0.80014,     0.79868,     0.79804,     0.79739,     0.79674,      0.7961,     0.79545,     0.79494,\n",
              "             0.7946,     0.79427,     0.79393,     0.79359,     0.79326,     0.79292,     0.79259,     0.79225,     0.79191,     0.79158,     0.79124,        0.79,     0.78689,     0.78689,     0.78689,     0.78689,     0.78655,     0.78562,     0.78469,     0.78375,     0.78282,     0.78262,     0.78245,\n",
              "            0.78228,     0.78211,     0.78194,     0.78176,     0.78159,     0.78142,     0.78125,     0.78108,     0.78091,     0.78074,     0.78056,     0.78039,     0.78022,     0.78005,     0.77988,     0.77971,     0.77953,     0.77936,     0.77919,     0.77902,     0.77885,     0.77869,     0.77863,\n",
              "            0.77793,     0.77723,     0.77653,     0.77583,     0.77513,      0.7736,      0.7694,     0.76592,     0.76424,     0.76256,     0.76111,     0.75971,     0.75831,      0.7582,     0.75763,     0.75703,     0.75643,     0.75583,     0.75523,     0.75463,     0.75362,     0.74977,     0.74809,\n",
              "            0.74641,     0.74541,     0.74471,     0.74401,     0.74331,     0.74261,     0.74191,     0.74003,     0.73793,      0.7352,     0.73309,     0.73189,     0.73069,     0.72951,     0.72951,     0.72951,     0.72951,     0.72951,     0.72951,     0.72951,     0.72951,     0.72951,     0.72951,\n",
              "            0.72951,     0.72951,     0.72318,     0.72103,     0.72019,     0.71935,     0.71851,     0.71767,     0.71721,     0.71721,     0.71721,     0.71721,     0.71307,     0.71243,     0.71178,     0.71113,     0.71049,     0.70984,     0.70919,     0.70861,     0.70805,     0.70749,     0.70693,\n",
              "            0.70637,     0.70581,     0.70525,     0.69739,     0.69286,     0.68998,     0.68852,     0.68852,     0.68852,     0.68852,     0.68609,     0.68189,     0.67974,     0.67881,     0.67788,     0.67694,     0.67583,     0.67415,     0.67247,     0.66673,     0.66112,     0.65912,     0.65828,\n",
              "            0.65744,      0.6566,     0.65576,     0.65574,     0.65574,     0.65574,     0.65574,     0.65574,     0.64722,     0.64442,     0.64235,     0.64067,     0.63875,     0.63595,     0.62693,     0.62646,     0.62599,     0.62553,     0.62506,     0.62459,     0.62413,     0.62366,     0.62319,\n",
              "            0.61885,      0.6146,     0.60976,     0.60808,     0.60246,     0.60216,     0.60167,     0.60117,     0.60068,     0.60018,     0.59969,      0.5992,      0.5987,     0.59836,     0.59836,     0.59658,     0.59448,     0.59175,     0.58983,     0.58907,     0.58831,     0.58754,     0.58678,\n",
              "              0.586,     0.58507,     0.58414,      0.5832,     0.58227,     0.58197,     0.58197,     0.58197,     0.58197,     0.58197,     0.58164,     0.58059,     0.57954,     0.57849,     0.57443,     0.57377,     0.57377,     0.57174,     0.56131,     0.55648,      0.5548,      0.5443,     0.54048,\n",
              "            0.53964,     0.53879,     0.53795,     0.53711,     0.53536,     0.53326,     0.52748,     0.52328,     0.51766,     0.51051,     0.50841,     0.50568,     0.50288,     0.50008,     0.49064,     0.48944,     0.48824,      0.4877,     0.48673,     0.48505,     0.48361,     0.48221,     0.47446,\n",
              "            0.47306,     0.47166,     0.46721,     0.46069,     0.45565,     0.45145,     0.44725,     0.43938,     0.43601,     0.43351,     0.43141,     0.42626,     0.41661,     0.41384,     0.41174,     0.40984,      0.4092,     0.40815,      0.4071,     0.40605,     0.39983,     0.39243,      0.3845,\n",
              "             0.3817,     0.37207,     0.36927,     0.35761,     0.35083,     0.34491,     0.34038,     0.33751,     0.33403,     0.33197,     0.32749,     0.31938,     0.31478,     0.30278,     0.29888,     0.29678,     0.29347,      0.2895,      0.2874,     0.28618,     0.28525,     0.28432,     0.28338,\n",
              "            0.28177,     0.27897,     0.27617,     0.27093,     0.27049,     0.26094,     0.25811,     0.25371,     0.23341,     0.23061,     0.20887,     0.20767,     0.20647,     0.20527,     0.20344,     0.20134,     0.19449,     0.19181,     0.19076,     0.18971,     0.18866,     0.18705,     0.18537,\n",
              "            0.18443,     0.18055,     0.17572,     0.17467,     0.17362,     0.17257,     0.17143,     0.17023,     0.16903,     0.16662,     0.16298,     0.16158,     0.16018,      0.1494,      0.1369,     0.13187,     0.12238,      0.1207,     0.11902,     0.11034,     0.10958,     0.10881,     0.10805,\n",
              "            0.10729,     0.10616,    0.090044,    0.088364,    0.086683,    0.076098,    0.072351,    0.060934,    0.058133,     0.05431,    0.048732,    0.047052,    0.045372,    0.036171,    0.034071,    0.029521,    0.018756,    0.015474,    0.013374,    0.012023,    0.011463,    0.010902,    0.010342,\n",
              "          0.0097822,   0.0092221,   0.0086619,   0.0074849,           0,           0,           0,           0,           0,           0,           0,           0,           0,           0,           0,           0,           0,           0,           0,           0,           0,           0,           0,\n",
              "                  0,           0,           0,           0,           0,           0,           0,           0,           0,           0,           0,           0,           0,           0,           0,           0,           0,           0,           0,           0,           0,           0,           0,\n",
              "                  0,           0,           0,           0,           0,           0,           0,           0,           0,           0,           0]]), 'Confidence', 'Recall']]\n",
              "fitness: 0.6970908334327564\n",
              "keys: ['metrics/precision(B)', 'metrics/recall(B)', 'metrics/mAP50(B)', 'metrics/mAP50-95(B)']\n",
              "maps: array([    0.67575])\n",
              "names: {0: 'Manhole'}\n",
              "plot: True\n",
              "results_dict: {'metrics/precision(B)': 0.8368728737926096, 'metrics/recall(B)': 0.8830691617576863, 'metrics/mAP50(B)': 0.8891514524412198, 'metrics/mAP50-95(B)': 0.6757507646540382, 'fitness': 0.6970908334327564}\n",
              "save_dir: PosixPath('runs/detect/train')\n",
              "speed: {'preprocess': 0.22046202164473042, 'inference': 9.661149194806026, 'loss': 0.05298235930744443, 'postprocess': 3.470967987013234}\n",
              "task: 'detect'"
            ]
          },
          "metadata": {},
          "execution_count": 5
        }
      ],
      "source": [
        "model.train(data = \"/content/dataset/data.yaml\" , epochs = 15)"
      ]
    },
    {
      "cell_type": "code",
      "execution_count": null,
      "metadata": {
        "id": "U0pCzcUGRLdW"
      },
      "outputs": [],
      "source": [
        "infer = YOLO(\"/content/model/best (4).pt\")"
      ]
    },
    {
      "cell_type": "code",
      "execution_count": null,
      "metadata": {
        "colab": {
          "base_uri": "https://localhost:8080/"
        },
        "id": "w7gIu3pAU2zz",
        "outputId": "164fdc7b-22cf-444e-fab0-b7f03221aeeb"
      },
      "outputs": [
        {
          "name": "stdout",
          "output_type": "stream",
          "text": [
            "\n",
            "image 1/1 /content/images/image5.jpg: 640x512 1 Manhole, 63.9ms\n",
            "Speed: 4.1ms preprocess, 63.9ms inference, 1.4ms postprocess per image at shape (1, 3, 640, 512)\n",
            "Results saved to \u001b[1mruns/detect/predict\u001b[0m\n",
            "2 labels saved to runs/detect/predict/labels\n"
          ]
        },
        {
          "data": {
            "text/plain": [
              "[ultralytics.engine.results.Results object with attributes:\n",
              " \n",
              " boxes: ultralytics.engine.results.Boxes object\n",
              " keypoints: None\n",
              " masks: None\n",
              " names: {0: 'Manhole'}\n",
              " obb: None\n",
              " orig_img: array([[[194, 185, 182],\n",
              "         [188, 179, 176],\n",
              "         [187, 178, 175],\n",
              "         ...,\n",
              "         [115, 124, 144],\n",
              "         [101, 110, 130],\n",
              "         [ 58,  67,  87]],\n",
              " \n",
              "        [[195, 186, 183],\n",
              "         [189, 180, 177],\n",
              "         [187, 178, 175],\n",
              "         ...,\n",
              "         [ 65,  74,  94],\n",
              "         [ 42,  51,  71],\n",
              "         [ 38,  47,  67]],\n",
              " \n",
              "        [[189, 180, 177],\n",
              "         [184, 175, 172],\n",
              "         [183, 174, 171],\n",
              "         ...,\n",
              "         [ 33,  42,  62],\n",
              "         [ 34,  43,  63],\n",
              "         [ 52,  61,  81]],\n",
              " \n",
              "        ...,\n",
              " \n",
              "        [[148, 143, 144],\n",
              "         [140, 135, 136],\n",
              "         [135, 131, 130],\n",
              "         ...,\n",
              "         [164, 166, 166],\n",
              "         [159, 161, 161],\n",
              "         [154, 156, 156]],\n",
              " \n",
              "        [[143, 138, 137],\n",
              "         [136, 131, 130],\n",
              "         [133, 128, 127],\n",
              "         ...,\n",
              "         [165, 167, 167],\n",
              "         [163, 165, 165],\n",
              "         [159, 161, 161]],\n",
              " \n",
              "        [[141, 136, 135],\n",
              "         [135, 130, 129],\n",
              "         [133, 128, 127],\n",
              "         ...,\n",
              "         [170, 172, 172],\n",
              "         [170, 172, 172],\n",
              "         [169, 171, 171]]], dtype=uint8)\n",
              " orig_shape: (1600, 1204)\n",
              " path: '/content/images/image5.jpg'\n",
              " probs: None\n",
              " save_dir: 'runs/detect/predict'\n",
              " speed: {'preprocess': 4.075527191162109, 'inference': 63.90810012817383, 'postprocess': 1.360177993774414}]"
            ]
          },
          "execution_count": 8,
          "metadata": {},
          "output_type": "execute_result"
        }
      ],
      "source": [
        "infer.predict(\"/content/images/image5.jpg\", save = True , save_txt = True)"
      ]
    },
    {
      "cell_type": "code",
      "execution_count": null,
      "metadata": {
        "id": "tkuLJV2WVTFR"
      },
      "outputs": [],
      "source": []
    }
  ],
  "metadata": {
    "accelerator": "GPU",
    "colab": {
      "gpuType": "T4",
      "provenance": []
    },
    "kernelspec": {
      "display_name": "Python 3",
      "name": "python3"
    },
    "language_info": {
      "name": "python"
    }
  },
  "nbformat": 4,
  "nbformat_minor": 0
}